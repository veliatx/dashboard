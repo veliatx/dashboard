{
 "cells": [
  {
   "cell_type": "code",
   "execution_count": 1,
   "metadata": {},
   "outputs": [
    {
     "name": "stderr",
     "output_type": "stream",
     "text": [
      "2023-12-06 02:59:48.258 WARNING streamlit.runtime.caching.cache_data_api: No runtime found, using MemoryCacheStorageManager\n",
      "2023-12-06 02:59:56.873 WARNING streamlit.runtime.caching.cache_data_api: No runtime found, using MemoryCacheStorageManager\n",
      "2023-12-06 02:59:56.874 WARNING streamlit.runtime.caching.cache_data_api: No runtime found, using MemoryCacheStorageManager\n",
      "2023-12-06 02:59:56.876 WARNING streamlit.runtime.caching.cache_data_api: No runtime found, using MemoryCacheStorageManager\n",
      "2023-12-06 02:59:56.876 WARNING streamlit.runtime.caching.cache_data_api: No runtime found, using MemoryCacheStorageManager\n",
      "2023-12-06 02:59:56.877 WARNING streamlit.runtime.caching.cache_data_api: No runtime found, using MemoryCacheStorageManager\n",
      "2023-12-06 02:59:56.878 WARNING streamlit.runtime.caching.cache_data_api: No runtime found, using MemoryCacheStorageManager\n",
      "2023-12-06 02:59:56.878 WARNING streamlit.runtime.caching.cache_data_api: No runtime found, using MemoryCacheStorageManager\n",
      "2023-12-06 02:59:56.879 WARNING streamlit.runtime.caching.cache_data_api: No runtime found, using MemoryCacheStorageManager\n",
      "2023-12-06 02:59:56.880 WARNING streamlit.runtime.caching.cache_data_api: No runtime found, using MemoryCacheStorageManager\n",
      "2023-12-06 02:59:56.881 WARNING streamlit.runtime.caching.cache_data_api: No runtime found, using MemoryCacheStorageManager\n"
     ]
    }
   ],
   "source": [
    "import json\n",
    "import jsonlines\n",
    "import os\n",
    "import multiprocessing as mp\n",
    "import subprocess, shlex\n",
    "import simplejson as json\n",
    "import pandas as pd\n",
    "\n",
    "from dashboard.data_load import load_mouse_blastp_results, load_esmfold\n",
    "from dashboard.etl import CACHE_DIR, PROTEIN_TOOLS_PATH, sorf_query\n",
    "\n",
    "from Bio.Seq import Seq\n",
    "from pathlib import Path\n",
    "from tqdm import tqdm\n",
    "\n",
    "from veliadb import base\n",
    "from veliadb.base import Orf\n",
    "\n"
   ]
  },
  {
   "cell_type": "code",
   "execution_count": 2,
   "metadata": {},
   "outputs": [],
   "source": [
    "session = base.Session()"
   ]
  },
  {
   "cell_type": "code",
   "execution_count": 3,
   "metadata": {},
   "outputs": [],
   "source": [
    "import boto3\n",
    "import gzip\n",
    "from io import BytesIO\n",
    "from Bio import SeqIO\n",
    "\n",
    "# Initialize a boto3 client for S3\n",
    "s3_client = boto3.client('s3')\n",
    "# S3 Bucket and file details\n",
    "bucket_name = 'velia-annotation-dev'\n",
    "s3_file_key = 'genomes/hg38/GRCh38.p13.genome.fa.gz'\n",
    "# Get the file object from S3\n",
    "file_obj = s3_client.get_object(Bucket=bucket_name, Key=s3_file_key)\n",
    "# Read the file content\n",
    "fasta_gzipped = file_obj['Body'].read()\n",
    "# Decompress the file\n",
    "with gzip.open(BytesIO(fasta_gzipped), 'rt') as f:\n",
    "    # Parse the FASTA file\n",
    "    genome_reference = SeqIO.to_dict(SeqIO.parse(f, \"fasta\"))"
   ]
  },
  {
   "cell_type": "code",
   "execution_count": 27,
   "metadata": {},
   "outputs": [],
   "source": [
    "with open('all_vtx_gencode_231205.txt', 'r') as infile:\n",
    "    ids = [int(i.replace('VTX-', '')) for i in infile.readlines()]\n"
   ]
  },
  {
   "cell_type": "code",
   "execution_count": 28,
   "metadata": {},
   "outputs": [
    {
     "data": {
      "text/plain": [
       "13529"
      ]
     },
     "execution_count": 28,
     "metadata": {},
     "output_type": "execute_result"
    }
   ],
   "source": [
    "len(ids)"
   ]
  },
  {
   "cell_type": "code",
   "execution_count": 6,
   "metadata": {},
   "outputs": [],
   "source": [
    "orfs = session.query(Orf).filter(Orf.id.in_(ids)).all()\n"
   ]
  },
  {
   "cell_type": "code",
   "execution_count": 7,
   "metadata": {},
   "outputs": [],
   "source": [
    "o = session.query(Orf).filter(Orf.id == 852124).one()\n"
   ]
  },
  {
   "cell_type": "code",
   "execution_count": 7,
   "metadata": {},
   "outputs": [
    {
     "data": {
      "text/plain": [
       "-1"
      ]
     },
     "execution_count": 7,
     "metadata": {},
     "output_type": "execute_result"
    }
   ],
   "source": [
    "o.start"
   ]
  },
  {
   "cell_type": "code",
   "execution_count": 8,
   "metadata": {},
   "outputs": [],
   "source": [
    "x = sorf_query.parallel_sorf_query(852124, genome_reference)"
   ]
  },
  {
   "cell_type": "code",
   "execution_count": 29,
   "metadata": {},
   "outputs": [
    {
     "name": "stderr",
     "output_type": "stream",
     "text": [
      "100%|██████████| 13529/13529 [42:22<00:00,  5.32it/s] \n"
     ]
    }
   ],
   "source": [
    "def pfunc(i):\n",
    "    r = sorf_query.parallel_sorf_query(i, genome_reference)\n",
    "    return r\n",
    "\n",
    "with open('sorf_table.jsonlines', 'w') as fopen:\n",
    "    with mp.Pool(16) as ppool:\n",
    "        for r in tqdm(ppool.imap(pfunc, ids), total=len(ids)):\n",
    "            fopen.write(json.dumps(r))\n",
    "            fopen.write('\\n')"
   ]
  },
  {
   "cell_type": "code",
   "execution_count": 30,
   "metadata": {},
   "outputs": [
    {
     "name": "stderr",
     "output_type": "stream",
     "text": [
      "  0%|          | 0/13529 [00:00<?, ?it/s]"
     ]
    },
    {
     "name": "stderr",
     "output_type": "stream",
     "text": [
      "100%|██████████| 13529/13529 [00:00<00:00, 55460.22it/s]\n"
     ]
    }
   ],
   "source": [
    "sorf_df = sorf_query.load_jsonlines_table('sorf_table.jsonlines', index_col='vtx_id')\n"
   ]
  },
  {
   "cell_type": "code",
   "execution_count": null,
   "metadata": {},
   "outputs": [],
   "source": []
  },
  {
   "cell_type": "code",
   "execution_count": 31,
   "metadata": {},
   "outputs": [
    {
     "name": "stderr",
     "output_type": "stream",
     "text": [
      "/opt/conda/envs/veliadash_updated/lib/python3.11/site-packages/Bio/Seq.py:2804: BiopythonWarning: Partial codon, len(sequence) not a multiple of three. Explicitly trim the sequence or add trailing N before translation. This may become an error in future.\n",
      "  warnings.warn(\n"
     ]
    }
   ],
   "source": [
    "for i, row in sorf_df.iterrows():\n",
    "    assert len(row.aa) > 1\n",
    "    assert '*' not in row.aa\n",
    "    assert row.aa == Seq(row.nucl).translate().strip('*')"
   ]
  },
  {
   "cell_type": "code",
   "execution_count": 32,
   "metadata": {},
   "outputs": [
    {
     "data": {
      "text/plain": [
       "'MVAALTWSMATSATASQARQGLIVKLILMTVQVTLVSMESVWMALIATVVSAHQDSQGRDVTLTLMSVPPIPVARVQHVSTV'"
      ]
     },
     "execution_count": 32,
     "metadata": {},
     "output_type": "execute_result"
    }
   ],
   "source": [
    "row.aa"
   ]
  },
  {
   "cell_type": "code",
   "execution_count": 25,
   "metadata": {},
   "outputs": [
    {
     "data": {
      "text/plain": [
       "Seq('IPYFLQEVYLSMMIYKWLLPAQNPNFQDLCFLFLI')"
      ]
     },
     "execution_count": 25,
     "metadata": {},
     "output_type": "execute_result"
    }
   ],
   "source": [
    "Seq(row.nucl).translate()"
   ]
  },
  {
   "cell_type": "code",
   "execution_count": 26,
   "metadata": {},
   "outputs": [
    {
     "ename": "NameError",
     "evalue": "name 'x' is not defined",
     "output_type": "error",
     "traceback": [
      "\u001b[0;31m---------------------------------------------------------------------------\u001b[0m",
      "\u001b[0;31mNameError\u001b[0m                                 Traceback (most recent call last)",
      "\u001b[1;32m/home/ubuntu/repos/dashboard/dashboard/etl/test_etl.ipynb Cell 15\u001b[0m line \u001b[0;36m1\n\u001b[0;32m----> <a href='vscode-notebook-cell://ssh-remote%2B10.65.27.143/home/ubuntu/repos/dashboard/dashboard/etl/test_etl.ipynb#X22sdnNjb2RlLXJlbW90ZQ%3D%3D?line=0'>1</a>\u001b[0m \u001b[39massert\u001b[39;00m x[\u001b[39m'\u001b[39m\u001b[39maa\u001b[39m\u001b[39m'\u001b[39m] \u001b[39m==\u001b[39m Seq(x[\u001b[39m'\u001b[39m\u001b[39mnucl\u001b[39m\u001b[39m'\u001b[39m])\u001b[39m.\u001b[39mtranslate()\n",
      "\u001b[0;31mNameError\u001b[0m: name 'x' is not defined"
     ]
    }
   ],
   "source": [
    "assert x['aa'] == Seq(x['nucl']).translate()"
   ]
  },
  {
   "cell_type": "code",
   "execution_count": null,
   "metadata": {},
   "outputs": [],
   "source": []
  }
 ],
 "metadata": {
  "kernelspec": {
   "display_name": "veliadash_updated",
   "language": "python",
   "name": "python3"
  },
  "language_info": {
   "codemirror_mode": {
    "name": "ipython",
    "version": 3
   },
   "file_extension": ".py",
   "mimetype": "text/x-python",
   "name": "python",
   "nbconvert_exporter": "python",
   "pygments_lexer": "ipython3",
   "version": "3.11.3"
  }
 },
 "nbformat": 4,
 "nbformat_minor": 2
}
