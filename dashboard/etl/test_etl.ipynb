{
 "cells": [
  {
   "cell_type": "code",
   "execution_count": 16,
   "metadata": {},
   "outputs": [],
   "source": [
    "import os\n",
    "import subprocess, shlex\n",
    "import simplejson as json\n",
    "import pandas as pd\n",
    "from dashboard.data_load import load_mouse_blastp_results, load_esmfold\n",
    "from pathlib import Path"
   ]
  },
  {
   "cell_type": "code",
   "execution_count": 4,
   "metadata": {},
   "outputs": [],
   "source": [
    "from dashboard.etl import CACHE_DIR, PROTEIN_TOOLS_PATH\n"
   ]
  },
  {
   "cell_type": "code",
   "execution_count": 11,
   "metadata": {},
   "outputs": [],
   "source": [
    "cache_dir = Path('/home/ubuntu/repos/dashboard/cache/')"
   ]
  },
  {
   "cell_type": "code",
   "execution_count": 8,
   "metadata": {},
   "outputs": [],
   "source": [
    "output_prefix = CACHE_DIR.joinpath('protein_data')"
   ]
  },
  {
   "cell_type": "code",
   "execution_count": 13,
   "metadata": {},
   "outputs": [
    {
     "data": {
      "text/plain": [
       "CompletedProcess(args=['docker', 'run', '--rm', '-v', '/home/ubuntu/repos/dashboard/cache/protein_data:/data', '-v', '/efs/databases/blast:/db', 'ncbi/blast', 'blastp', '-task', 'blastp-fast', '-outfmt', '15', '-db', '/db/mouse.protein.faa', '-query', '/data/protein_tools_input.fasta', '-max_target_seqs', '20', '-out', '/data/blastp.results.json'], returncode=0)"
      ]
     },
     "execution_count": 13,
     "metadata": {},
     "output_type": "execute_result"
    }
   ],
   "source": [
    "subprocess.run(shlex.split(f'docker run  --rm -v {output_prefix}:/data -v /efs/databases/blast:/db ncbi/blast blastp -task blastp-fast -outfmt 15 -db /db/mouse.protein.faa -query /data/protein_tools_input.fasta -max_target_seqs 20 -out /data/blastp.results.json'))\n"
   ]
  },
  {
   "cell_type": "code",
   "execution_count": 22,
   "metadata": {},
   "outputs": [
    {
     "name": "stderr",
     "output_type": "stream",
     "text": [
      "the input device is not a TTY\n"
     ]
    },
    {
     "data": {
      "text/plain": [
       "CompletedProcess(args=['docker', 'run', '--gpus', 'all', '-it', '-v', '/home/ubuntu/repos/protein_tools:/opt/openfold', '-v', '/home/ubuntu/repos/dashboard/cache/protein_data:/data', '328315166908.dkr.ecr.us-west-2.amazonaws.com/esmfold:latest', 'python', '/opt/openfold/run_batch_fasta.py', '/data/protein_tools_input.fasta', '/data/esmfold.jsonlines'], returncode=1)"
      ]
     },
     "execution_count": 22,
     "metadata": {},
     "output_type": "execute_result"
    }
   ],
   "source": [
    "cmd = f'docker run --gpus all -it -v /home/ubuntu/repos/protein_tools:/opt/openfold -v {output_prefix}:/data 328315166908.dkr.ecr.us-west-2.amazonaws.com/esmfold:latest python /opt/openfold/run_batch_fasta.py /data/protein_tools_input.fasta /data/esmfold.jsonlines'\n",
    "subprocess.run(shlex.split(cmd))"
   ]
  },
  {
   "cell_type": "code",
   "execution_count": 23,
   "metadata": {},
   "outputs": [
    {
     "name": "stdout",
     "output_type": "stream",
     "text": [
      "docker run --gpus all -it -v /home/ubuntu/repos/protein_tools:/opt/openfold -v /home/ubuntu/repos/dashboard/cache/protein_data:/data 328315166908.dkr.ecr.us-west-2.amazonaws.com/esmfold:latest python /opt/openfold/run_batch_fasta.py /data/protein_tools_input.fasta /data/esmfold.jsonlines\n"
     ]
    }
   ],
   "source": [
    "print(cmd)"
   ]
  },
  {
   "cell_type": "code",
   "execution_count": 17,
   "metadata": {},
   "outputs": [
    {
     "name": "stderr",
     "output_type": "stream",
     "text": [
      "2023-12-04 20:56:16.680 \n",
      "  \u001b[33m\u001b[1mWarning:\u001b[0m to view this Streamlit app on a browser, run it with the following\n",
      "  command:\n",
      "\n",
      "    streamlit run /opt/conda/envs/veliadash_updated/lib/python3.11/site-packages/ipykernel_launcher.py [ARGUMENTS]\n",
      "2023-12-04 20:56:16.681 No runtime found, using MemoryCacheStorageManager\n"
     ]
    }
   ],
   "source": [
    "esmfold = load_esmfold()\n"
   ]
  },
  {
   "cell_type": "code",
   "execution_count": 19,
   "metadata": {},
   "outputs": [
    {
     "data": {
      "text/plain": [
       "13"
      ]
     },
     "execution_count": 19,
     "metadata": {},
     "output_type": "execute_result"
    }
   ],
   "source": [
    "len(esmfold.keys())"
   ]
  },
  {
   "cell_type": "code",
   "execution_count": 20,
   "metadata": {},
   "outputs": [
    {
     "data": {
      "text/plain": [
       "dict_keys(['MVQGSCWAAGKRGCTS', 'MISAHCDLCFLGSRILLPQPPK', 'MRSRVHTPRGGEALNRETA', 'MPRINREGRRWLFSCLIVFLLSELESHEGEQQKTTN', 'MRFFRLTFKCFVDCF', 'MILQSLLFLQRLLMISTKPAVVLLWPLLKKVENTLMQHVHPNLPA', 'MQHPGEPTCILLARCLECNTTCESENLPRPPAMD', 'MTHNSGSGPGTSNIIK', 'MLEGGFRRKMILCILSLHPNF', 'MANDRRRAQTGPCYDLSWSGSD', 'MQEVSRKGRTPGFEQNFGL', 'MHYLIKRRMDLLFLQLVFQELI', 'MAEIRTLHFAACALRPQNLLYPT'])"
      ]
     },
     "execution_count": 20,
     "metadata": {},
     "output_type": "execute_result"
    }
   ],
   "source": [
    "esmfold.keys()"
   ]
  },
  {
   "cell_type": "code",
   "execution_count": 14,
   "metadata": {},
   "outputs": [],
   "source": [
    "with open(cache_dir.joinpath('protein_data', 'blastp.results.json'), 'r') as fopen:\n",
    "    blastp = json.load(fopen)\n",
    "    blastp = blastp['BlastOutput2']"
   ]
  },
  {
   "cell_type": "code",
   "execution_count": null,
   "metadata": {},
   "outputs": [],
   "source": []
  }
 ],
 "metadata": {
  "kernelspec": {
   "display_name": "veliadash_updated",
   "language": "python",
   "name": "python3"
  },
  "language_info": {
   "codemirror_mode": {
    "name": "ipython",
    "version": 3
   },
   "file_extension": ".py",
   "mimetype": "text/x-python",
   "name": "python",
   "nbconvert_exporter": "python",
   "pygments_lexer": "ipython3",
   "version": "3.11.3"
  }
 },
 "nbformat": 4,
 "nbformat_minor": 2
}
