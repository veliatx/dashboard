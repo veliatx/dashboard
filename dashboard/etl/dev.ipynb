{
 "cells": [
  {
   "cell_type": "code",
   "execution_count": 352,
   "id": "d8c710fd-0244-4f2d-888b-d65de3d31cd7",
   "metadata": {},
   "outputs": [],
   "source": [
    "from sorf_query import *"
   ]
  },
  {
   "cell_type": "code",
   "execution_count": 353,
   "id": "2793b797-e099-4b5e-bfb5-d8af6aaba877",
   "metadata": {},
   "outputs": [],
   "source": [
    "pd.options.display.max_columns = 100\n",
    "pd.options.display.max_rows = 100\n",
    "pd.options.display.max_colwidth = 200"
   ]
  },
  {
   "cell_type": "code",
   "execution_count": null,
   "id": "bb4f4712-3ed7-44e4-b06c-7c6663bc6728",
   "metadata": {},
   "outputs": [],
   "source": [
    "GENOME_REFERENCE_PATH = 's3://velia-annotation-dev/genomes/hg38/GRCh38.p13.genome.fa.gz'"
   ]
  },
  {
   "cell_type": "code",
   "execution_count": 349,
   "id": "55b0b688-eef8-413c-816d-bb805443f857",
   "metadata": {
    "tags": []
   },
   "outputs": [
    {
     "data": {
      "text/plain": [
       "[7082, 7146, 7396, 7541, 9335]"
      ]
     },
     "execution_count": 349,
     "metadata": {},
     "output_type": "execute_result"
    }
   ],
   "source": [
    "with open('test_vtx.txt') as fhandle:\n",
    "    ids = [int(i.replace('VTX-', '')) for i in fhandle.readlines()]\n",
    "ids[:5]"
   ]
  },
  {
   "cell_type": "code",
   "execution_count": 340,
   "id": "0de4571a-f96b-471f-8635-c646a8c8a8f9",
   "metadata": {},
   "outputs": [],
   "source": [
    "session = base.Session()"
   ]
  },
  {
   "cell_type": "code",
   "execution_count": 350,
   "id": "91d74caf-0501-420d-844c-8482589b82fc",
   "metadata": {},
   "outputs": [
    {
     "data": {
      "text/plain": [
       "set()"
      ]
     },
     "execution_count": 350,
     "metadata": {},
     "output_type": "execute_result"
    }
   ],
   "source": [
    "orfs = session.query(Orf).filter(Orf.id.in_(ids)).all()\n",
    "current_orf = orfs[0]\n",
    "missing_orfs = set(ids) - set([i.id for i in orfs])\n",
    "missing_orfs"
   ]
  },
  {
   "cell_type": "code",
   "execution_count": 342,
   "id": "8587a8b5-6462-4f31-bcc7-650c5f06b39c",
   "metadata": {},
   "outputs": [],
   "source": [
    "import pyfaidx\n",
    "import fsspec\n",
    "from tqdm import tqdm\n",
    "import os\n",
    "\n",
    "if not os.path.exists('reference.fa'):\n",
    "    with smart_open.open(GENOME_REFERENCE_PATH) as fhandle:\n",
    "        with open('reference.fa', 'w') as f:\n",
    "            for line in tqdm(fhandle.readlines()):\n",
    "                f.write(line)\n",
    "reference = pyfaidx.Fasta('reference.fa')"
   ]
  },
  {
   "cell_type": "code",
   "execution_count": null,
   "id": "d5f279a7-1d6c-4318-80fb-d7e625ba0bda",
   "metadata": {},
   "outputs": [
    {
     "name": "stdout",
     "output_type": "stream",
     "text": [
      "Completed 1.1 GiB/1.2 GiB (112.1 MiB/s) with 1 file(s) remaining   \r"
     ]
    }
   ],
   "source": [
    "!aws s3 cp s3://velia-annotation-dev/refseq/GCA_000001405.15_GRCh38_full_analysis_set.refseq_annotation.gff ."
   ]
  },
  {
   "cell_type": "code",
   "execution_count": null,
   "id": "ac2b2f77-f89a-4264-a07c-15e4045e5668",
   "metadata": {},
   "outputs": [
    {
     "name": "stdout",
     "output_type": "stream",
     "text": [
      "                           PRE mRNA_Prot_230110/\n",
      "2023-04-08 05:49:43 1409662270 GCA_000001405.15_GRCh38_full_analysis_set.refseq_annotation.expanded.gff\n",
      "2023-04-08 05:49:44 1470041000 GCA_000001405.15_GRCh38_full_analysis_set.refseq_annotation.expanded.ids.gff\n",
      "2023-04-08 05:49:44 1307343403 GCA_000001405.15_GRCh38_full_analysis_set.refseq_annotation.gff\n",
      "2023-01-11 05:58:51   57318875 GCA_000001405.15_GRCh38_full_analysis_set.refseq_annotation.gff.gz\n",
      "2023-01-11 05:58:52      79219 GRCh38_latest_assembly_report.txt\n",
      "2023-01-11 05:58:51   59486550 GRCh38_latest_clinvar.vcf.gz\n",
      "2023-01-11 05:58:51  796766480 GRCh38_latest_dbVar.gvf.gz\n",
      "2023-04-08 05:49:44 1364066134 GRCh38_latest_genomic.gff\n",
      "2023-01-11 05:58:51   56923273 GRCh38_latest_genomic.gff.gz\n",
      "2023-01-11 05:58:51  160943050 GRCh38_latest_protein.gpff.gz\n"
     ]
    }
   ],
   "source": [
    "!aws s3 ls s3://velia-annotation-dev/refseq/GCA_000001405.15_GRCh38_full_analysis_set.refseq_annotation.gff"
   ]
  },
  {
   "cell_type": "code",
   "execution_count": null,
   "id": "a1af09dd-0a4c-42d6-8517-fc16a7a3e904",
   "metadata": {},
   "outputs": [],
   "source": [
    "# deduped_conservation = pd.read_parquet('deduped_phylocsf_length_filtered.parq')\n",
    "transcripts = Fasta('./gencode.v42.transcripts.fa')\n",
    "\n",
    "def find_seq_substring(query, target_dict):\n",
    "    return [k for k, s in target_dict.items() if query.lower() in s[:].seq.lower()]"
   ]
  },
  {
   "cell_type": "code",
   "execution_count": 26,
   "id": "71bfb98e-f8de-4592-a306-ce511d673dc4",
   "metadata": {},
   "outputs": [
    {
     "data": {
      "text/plain": [
       "{'chr': 'chr17',\n",
       " 'vtx': 'VTX-0002499',\n",
       " 'strand': '+',\n",
       " 'start': 41238052,\n",
       " 'end': 41238531,\n",
       " 'nucl': '',\n",
       " 'aa': 'MTHCCSPCCQPTCCRTTCWKPTTVTTCSSTPCCQPSCCVSSCCQPCCRPTCCQNTCCQPICVTSCCQPSCCSTPCCQPTCCGQTSCGSSCGQSSSCAPVYCRRTCYHPTTVCLPGCLNQSCGSNCCQPCCRPACCETTCCRTTCFQPTCVSSCCQPSCC'}"
      ]
     },
     "execution_count": 26,
     "metadata": {},
     "output_type": "execute_result"
    }
   ],
   "source": [
    "attributes = {\n",
    "    'chr': current_orf.assembly.ucsc_style_name,\n",
    "    'vtx': f\"VTX-{str(current_orf.id).zfill(7)}\",\n",
    "    'strand': current_orf.strand,\n",
    "    'start': current_orf.start,\n",
    "    'end': current_orf.end,\n",
    "    'nucl': current_orf.nt_seq,\n",
    "    'aa': current_orf.aa_seq,\n",
    "}\n",
    "attributes"
   ]
  },
  {
   "cell_type": "code",
   "execution_count": null,
   "id": "313e65e6-fc97-4375-8437-3281e183d144",
   "metadata": {},
   "outputs": [],
   "source": [
    "assembly_ids = {}\n",
    "\n",
    "for assembly in session.query(base.Assembly).all():\n",
    "    if assembly.ucsc_style_name.startswith('chr') and len(assembly.ucsc_style_name) < 6:\n",
    "        assembly_ids[assembly.ucsc_style_name] = assembly\n",
    "    else:\n",
    "        assembly_ids[assembly.genbank_accession] = assembly"
   ]
  },
  {
   "cell_type": "code",
   "execution_count": null,
   "id": "4c1c7a01-02ff-4349-9b85-e11917db9816",
   "metadata": {},
   "outputs": [],
   "source": [
    "assembly_ids"
   ]
  },
  {
   "cell_type": "code",
   "execution_count": 17,
   "id": "a395cafc-678f-470d-b44d-53c3e40e57ff",
   "metadata": {},
   "outputs": [],
   "source": [
    "from Bio import SeqIO"
   ]
  },
  {
   "cell_type": "code",
   "execution_count": 21,
   "id": "aa09f14a-67de-4b53-a6f4-73a62ab737a2",
   "metadata": {},
   "outputs": [],
   "source": [
    "with smart_open.open('s3://velia-annotation-dev/gencode/v42/gencode.v42.transcripts.fa.gz') as f:\n",
    "    seqs = SeqIO.to_dict(SeqIO.parse(f, 'fasta'))"
   ]
  },
  {
   "cell_type": "code",
   "execution_count": 24,
   "id": "9a2e6df6-99d0-49f1-9eb0-60049da9a76c",
   "metadata": {},
   "outputs": [],
   "source": [
    "# seqs.keys()"
   ]
  },
  {
   "cell_type": "markdown",
   "id": "1c411a8e-9659-446f-bc45-fd2249492f8f",
   "metadata": {},
   "source": [
    "# Map transcripts"
   ]
  },
  {
   "cell_type": "code",
   "execution_count": 253,
   "id": "ff65fce0-6a14-4f85-bcb4-0883816c20c9",
   "metadata": {},
   "outputs": [
    {
     "name": "stdout",
     "output_type": "stream",
     "text": [
      "VTX-0851390 ['ENST00000302392.5|ENSG00000169964.8|OTTHUMG00000133092.3|OTTHUMT00000256750.3|TMEM42-201|TMEM42|977|protein_coding|']\n",
      "VTX-0081996 ['ENST00000611969.5|ENSG00000175701.11|OTTHUMG00000131194.5|OTTHUMT00000477505.2|MTLN-203|MTLN|427|protein_coding|', 'ENST00000414416.2|ENSG00000175701.11|OTTHUMG00000131194.5|OTTHUMT00000253918.4|MTLN-201|MTLN|2051|protein_coding|', 'ENST00000426713.1|ENSG00000175701.11|OTTHUMG00000131194.5|OTTHUMT00000338107.3|MTLN-202|MTLN|461|protein_coding|']\n",
      "VTX-0087927 ['ENST00000546390.2|ENSG00000284791.2|OTTHUMG00000169615.4|OTTHUMT00000405071.2|SMIM41-201|SMIM41|1430|protein_coding|']\n",
      "VTX-0085840 ['ENST00000581851.2|ENSG00000263429.4|OTTHUMG00000132847.7|OTTHUMT00000256321.4|TMEM238L-202|TMEM238L|1535|protein_coding|']\n",
      "VTX-0087707 ['ENST00000641568.1|ENSG00000284713.2|OTTHUMG00000172974.2|OTTHUMT00000491249.1|SMIM38-202|SMIM38|2695|protein_coding|', 'ENST00000686937.1|ENSG00000284713.2|OTTHUMG00000172974.2|-|SMIM38-204|SMIM38|5447|protein_coding|', 'ENST00000686237.1|ENSG00000284713.2|OTTHUMG00000172974.2|-|SMIM38-203|SMIM38|5353|protein_coding|']\n"
     ]
    }
   ],
   "source": [
    "targets = {\n",
    "    'VTX-0851390': 'ATGGCCGAGAGGCCGGGGCCTCCGGGCGGCGCCGTGTCCGCGACCGCGTACCCTGACACCCCCGCGGAATTCCCTCCGCACCTCCAGGCGGGTGCGATGCGGCGCCGCTTTTGGGGCGTATTCAACTGTCTGTGCGCCGGCGCGTTCGGGGCCCTGGCCGCCGCCTCCGCCAAGCTGGCCTTCGGCAGCGAGGTGAGCATGGGTTTATGCGTCTTAGGCATTATTGTGATGGCGAGCACCAATTCTCTGATGTGGACCTTCTTTAGCCGGGGCCTCAGTTTCTCCATGTCTTCAGCCATTGCATCTGTCACAGTGACTTTTTCAAATATCCTCAGCTCGGCCTTCCTGGGCTATGTGCTGTATGGAGAGTGCCAGGAGGTCTTGTGGTGGGGAGGAGTGTTCCTTATTCTCTGCGGACTCACCCTAATCCACAGGAAGCTCCCACCCACCTGGAAGCCCCTTCCACACAAGCAGCAG',\n",
    "    'VTX-0081996': 'ATGGCGGATGTGTCAGAGAGGACACTGCAGTTGTCCGTGCTAGTAGCCTTCGCTTCTGGAGTACTCCTGGGCTGGCAGGCGAACCGACTGCGGAGGCGCTACTTGGACTGGAGGAAAAGGAGGCTGCAGGACAAGCTGGCGGCGACGCAGAAGAAGCTGGACCTGGCC',\n",
    "    'VTX-0087927': 'ATGAACGGCTCTCAGGCGGGCGCCGCGGCTCAGGCCGCCTGGCTGAGCTCCTGCTGTAACCAGTCGGCGTCGCCGCCGGAGCCCCCCGAGGGGCCGCGCGCGGTGCAGGCGGTGGTGCTCGGCGTGCTGTCCCTGCTGGTGCTTTGCGGGGTCCTGTTCCTGGGCGGCGGCCTCCTCCTCCGCGCCCAGGGCCTGACAGCGCTGCTGACCCGCGAGCAGCGCGCGTCCCGCGAGCCCGAGCCGGGCAGTGCCAGCGGAGAGGACGGCGACGACGACTCC',\n",
    "    'VTX-0085840': 'ATGCTCCTGGGGAGTCTGTGGGGAAGATGCCATCCAGGGCGCTGTGCGCTCTTCCTCATCCTCGCCCTCCTGCTGGACGCGGTCGGCCTGGTCCTTTTGCTGCTGGGGATCTTGGCCCCCCTGAGTTCCTGGGACTTCTTCATCTACACAGGTGCCCTGATCCTGGCTCTCAGCCTACTGCTCTGGATCATCTGGTATTCCCTCAACATTGAGGTGTCTCCTGAAAAACTGGACCTG',\n",
    "    'VTX-0087707': 'ATGACCTCCTGGCCAGGTGGCAGCTTTGGCCCTGACCCGCTCCTGGCCCTGCTGGTGGTGATCCTGCTAGCACGCCTCATCCTGTGGTCCTGCCTCGGGACCTACATCGACTACAGACTGGCCCAGCGGCGGCCCCAGAAACCCAAGCAGGAC',\n",
    "}\n",
    "for i, s in targets.items():\n",
    "    hit = find_seq_substring(s, transcripts)\n",
    "    print(i, hit)"
   ]
  },
  {
   "cell_type": "code",
   "execution_count": 251,
   "id": "ac1f60c7-e698-48ed-9409-113337172efd",
   "metadata": {},
   "outputs": [],
   "source": [
    "import gzip\n",
    "import fsspec\n",
    "from pyfaidx import Fasta\n",
    "import pandas as pd\n",
    "from tqdm import tqdm\n",
    "\n",
    "# deduped_conservation = pd.read_parquet('deduped_phylocsf_length_filtered.parq')\n",
    "transcripts = Fasta('./gencode.v42.transcripts.fa')\n",
    "\n",
    "def find_seq_substring(query, target_dict):\n",
    "    return [k for k, s in target_dict.items() if query.lower() in s[:].seq.lower()]\n",
    "\n",
    "def extract_sequence(reference, chrom, strand, block_starts, block_sizes):\n",
    "    s = reference[chrom]\n",
    "    sequence = ''\n",
    "    for start, length in zip(block_starts, block_sizes):\n",
    "        end = start + (3*(length-1)) + 3\n",
    "        sequence += str(s[start : end])\n",
    "    sequence+=str(s[end:end+3])\n",
    "    return sequence\n",
    "\n",
    "def pfunc(row):\n",
    "    ix = row['qName']\n",
    "    starts = tuple(map(int, row['tStarts'].strip(',').split(',')))\n",
    "    sizes = tuple(map(int, row['blockSizes'].strip(',').split(',')))\n",
    "    s = extract_sequence(genes, row['tName'], row['strand'], starts, sizes)\n",
    "    # print(row['strand'], s[:3], s[-3:])\n",
    "    # blat_sequences[row['qName']] = s\n",
    "    matches = find_seq_substring(s, transcripts)\n",
    "    if len(matches)>0:\n",
    "        transcript_names = [i.split('|')[0].split('.')[0] for i in matches]\n",
    "        gene_names = [i.split('|')[5] for i in matches]\n",
    "        return ix, {'transcripts': transcript_names, 'genes': gene_names, 'sequence': s}\n",
    "    else:\n",
    "        return ix, {'transcripts': [], 'genes': [], 'sequence': s}\n",
    "    \n",
    "# import multiprocessing as mp\n",
    "# with mp.Pool(120) as ppool:\n",
    "#     annotations = {}\n",
    "#     ixes, rows = list(zip(*deduped_conservation.iterrows()))\n",
    "#     for r in tqdm(ppool.imap(pfunc, rows), total=50000):#, total=signalp_and_conserved.shape[0]):\n",
    "#         annotations[r[0]] = r[1]"
   ]
  },
  {
   "cell_type": "code",
   "execution_count": null,
   "id": "ee4c37da-f86d-4932-a9ea-97160401cc39",
   "metadata": {},
   "outputs": [],
   "source": []
  }
 ],
 "metadata": {
  "kernelspec": {
   "display_name": "Python 3 (ipykernel)",
   "language": "python",
   "name": "python3"
  },
  "language_info": {
   "codemirror_mode": {
    "name": "ipython",
    "version": 3
   },
   "file_extension": ".py",
   "mimetype": "text/x-python",
   "name": "python",
   "nbconvert_exporter": "python",
   "pygments_lexer": "ipython3",
   "version": "3.11.2"
  }
 },
 "nbformat": 4,
 "nbformat_minor": 5
}
