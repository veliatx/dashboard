{
 "cells": [
  {
   "cell_type": "code",
   "execution_count": 1,
   "id": "d8c710fd-0244-4f2d-888b-d65de3d31cd7",
   "metadata": {},
   "outputs": [],
   "source": [
    "from sorf_query import *\n",
    "import jsonlines\n",
    "import pandas as pd"
   ]
  },
  {
   "cell_type": "code",
   "execution_count": 2,
   "id": "2793b797-e099-4b5e-bfb5-d8af6aaba877",
   "metadata": {},
   "outputs": [],
   "source": [
    "pd.options.display.max_columns = 100\n",
    "pd.options.display.max_rows = 100\n",
    "pd.options.display.max_colwidth = 200"
   ]
  },
  {
   "cell_type": "code",
   "execution_count": 3,
   "id": "bb4f4712-3ed7-44e4-b06c-7c6663bc6728",
   "metadata": {},
   "outputs": [],
   "source": [
    "GENOME_REFERENCE_PATH = 's3://velia-annotation-dev/genomes/hg38/GRCh38.p13.genome.fa.gz'"
   ]
  },
  {
   "cell_type": "code",
   "execution_count": 4,
   "id": "55b0b688-eef8-413c-816d-bb805443f857",
   "metadata": {
    "tags": []
   },
   "outputs": [
    {
     "data": {
      "text/plain": [
       "[7082, 7146, 7396, 7541, 9335]"
      ]
     },
     "execution_count": 4,
     "metadata": {},
     "output_type": "execute_result"
    }
   ],
   "source": [
    "with open('test_vtx.txt') as fhandle:\n",
    "    ids = [int(i.replace('VTX-', '')) for i in fhandle.readlines()]\n",
    "ids[:5]"
   ]
  },
  {
   "cell_type": "code",
   "execution_count": 5,
   "id": "4c9759b9-0ed6-4cb9-a9b8-4e100f8e100d",
   "metadata": {},
   "outputs": [],
   "source": [
    "new_ids = [851390, 81996, 850636]\n",
    "ids = new_ids+ids"
   ]
  },
  {
   "cell_type": "code",
   "execution_count": 6,
   "id": "714ea7e0-5bb2-4fcc-8107-c5d393262545",
   "metadata": {},
   "outputs": [],
   "source": [
    "# session.rollback()"
   ]
  },
  {
   "cell_type": "code",
   "execution_count": 7,
   "id": "0de4571a-f96b-471f-8635-c646a8c8a8f9",
   "metadata": {},
   "outputs": [],
   "source": [
    "session = base.Session()"
   ]
  },
  {
   "cell_type": "code",
   "execution_count": 8,
   "id": "91d74caf-0501-420d-844c-8482589b82fc",
   "metadata": {},
   "outputs": [
    {
     "data": {
      "text/plain": [
       "set()"
      ]
     },
     "execution_count": 8,
     "metadata": {},
     "output_type": "execute_result"
    }
   ],
   "source": [
    "orfs = session.query(Orf).filter(Orf.id.in_(ids)).all()\n",
    "current_orf = orfs[0]\n",
    "missing_orfs = set(ids) - set([i.id for i in orfs])\n",
    "missing_orfs"
   ]
  },
  {
   "cell_type": "code",
   "execution_count": 10,
   "id": "149eb6ce-d240-49bd-add2-175c9086689f",
   "metadata": {},
   "outputs": [],
   "source": [
    "def compute_exact_transcript_matches(o):\n",
    "    nt, aa = extract_nucleotide_sequence_broken_psl_starts(current_orf, reference)\n",
    "    r = find_seq_substring(nt, transcripts)\n",
    "    return o.id, nt, aa, [i.split('|')[0].split('.')[0] for i in r]\n",
    "\n",
    "def run_id_mapping_parallel(orfs, NCPU = None):\n",
    "    import multiprocessing as mp\n",
    "    results = {}\n",
    "    if NCPU is None:\n",
    "        NCPU = mp.cpu_count()\n",
    "    if NCPU > 1:\n",
    "        with mp.Pool(NCPU) as ppool:            \n",
    "            for r in tqdm(ppool.imap(compute_exact_transcript_matches, orfs), total=len(orfs)):\n",
    "                results[r[0]] = r[1:]\n",
    "    else:\n",
    "        for o in tqdm(orfs):\n",
    "            r = compute_exact_transcript_matches(o)\n",
    "            results[r[0]] = r[1:]\n",
    "    return results"
   ]
  },
  {
   "cell_type": "code",
   "execution_count": 11,
   "id": "123a59b9-6542-4519-8b17-bf3843106ccf",
   "metadata": {},
   "outputs": [
    {
     "name": "stderr",
     "output_type": "stream",
     "text": [
      "100%|██████████| 8/8 [00:52<00:00,  6.55s/it]\n"
     ]
    }
   ],
   "source": [
    "transcript_matching_results = run_id_mapping_parallel(orfs[:8], NCPU = 1)"
   ]
  },
  {
   "cell_type": "code",
   "execution_count": 27,
   "id": "0164117a-0bc8-4050-9ab4-ae5a6252d534",
   "metadata": {},
   "outputs": [
    {
     "data": {
      "text/plain": [
       "{'ENST00000298966',\n",
       " 'ENST00000299415',\n",
       " 'ENST00000301200',\n",
       " 'ENST00000302101',\n",
       " 'ENST00000319694',\n",
       " 'ENST00000322329',\n",
       " 'ENST00000326842',\n",
       " 'ENST00000327157',\n",
       " 'ENST00000525141',\n",
       " 'ENST00000527149',\n",
       " 'ENST00000596676'}"
      ]
     },
     "execution_count": 27,
     "metadata": {},
     "output_type": "execute_result"
    }
   ],
   "source": [
    "xena_transcripts = pd.read_csv('s3://velia-data-dev/VDC_004_annotation/20230329_tcga_data/xena_transcript_names.csv')\n",
    "overlapping_xena_sorf_transcripts = set(xena_transcripts['Xena Transcripts']).intersection(set(transcripts_to_map\n",
    "                                                                                            ))\n",
    "overlapping_xena_sorf_transcripts"
   ]
  },
  {
   "cell_type": "code",
   "execution_count": 33,
   "id": "9e85cea0-5467-4584-8d2e-1a4df0cecbae",
   "metadata": {},
   "outputs": [
    {
     "ename": "UnicodeDecodeError",
     "evalue": "'utf-8' codec can't decode byte 0xca in position 15827: invalid continuation byte",
     "output_type": "error",
     "traceback": [
      "\u001b[0;31m---------------------------------------------------------------------------\u001b[0m",
      "\u001b[0;31mUnicodeDecodeError\u001b[0m                        Traceback (most recent call last)",
      "Cell \u001b[0;32mIn[33], line 1\u001b[0m\n\u001b[0;32m----> 1\u001b[0m metadata \u001b[38;5;241m=\u001b[39m \u001b[43mpd\u001b[49m\u001b[38;5;241;43m.\u001b[39;49m\u001b[43mread_table\u001b[49m\u001b[43m(\u001b[49m\u001b[38;5;124;43m'\u001b[39;49m\u001b[38;5;124;43ms3://velia-data-dev/VDC_004_annotation/20230329_tcga_data/Xena/TcgaTargetGTEX_phenotype.txt\u001b[39;49m\u001b[38;5;124;43m'\u001b[39;49m\u001b[43m)\u001b[49m\n\u001b[1;32m      2\u001b[0m metadata\n",
      "File \u001b[0;32m~/anaconda/envs/veliadash/lib/python3.11/site-packages/pandas/io/parsers/readers.py:1242\u001b[0m, in \u001b[0;36mread_table\u001b[0;34m(filepath_or_buffer, sep, delimiter, header, names, index_col, usecols, dtype, engine, converters, true_values, false_values, skipinitialspace, skiprows, skipfooter, nrows, na_values, keep_default_na, na_filter, verbose, skip_blank_lines, parse_dates, infer_datetime_format, keep_date_col, date_parser, date_format, dayfirst, cache_dates, iterator, chunksize, compression, thousands, decimal, lineterminator, quotechar, quoting, doublequote, escapechar, comment, encoding, encoding_errors, dialect, on_bad_lines, delim_whitespace, low_memory, memory_map, float_precision, storage_options, dtype_backend)\u001b[0m\n\u001b[1;32m   1229\u001b[0m kwds_defaults \u001b[38;5;241m=\u001b[39m _refine_defaults_read(\n\u001b[1;32m   1230\u001b[0m     dialect,\n\u001b[1;32m   1231\u001b[0m     delimiter,\n\u001b[0;32m   (...)\u001b[0m\n\u001b[1;32m   1238\u001b[0m     dtype_backend\u001b[38;5;241m=\u001b[39mdtype_backend,\n\u001b[1;32m   1239\u001b[0m )\n\u001b[1;32m   1240\u001b[0m kwds\u001b[38;5;241m.\u001b[39mupdate(kwds_defaults)\n\u001b[0;32m-> 1242\u001b[0m \u001b[38;5;28;01mreturn\u001b[39;00m \u001b[43m_read\u001b[49m\u001b[43m(\u001b[49m\u001b[43mfilepath_or_buffer\u001b[49m\u001b[43m,\u001b[49m\u001b[43m \u001b[49m\u001b[43mkwds\u001b[49m\u001b[43m)\u001b[49m\n",
      "File \u001b[0;32m~/anaconda/envs/veliadash/lib/python3.11/site-packages/pandas/io/parsers/readers.py:583\u001b[0m, in \u001b[0;36m_read\u001b[0;34m(filepath_or_buffer, kwds)\u001b[0m\n\u001b[1;32m    580\u001b[0m     \u001b[38;5;28;01mreturn\u001b[39;00m parser\n\u001b[1;32m    582\u001b[0m \u001b[38;5;28;01mwith\u001b[39;00m parser:\n\u001b[0;32m--> 583\u001b[0m     \u001b[38;5;28;01mreturn\u001b[39;00m \u001b[43mparser\u001b[49m\u001b[38;5;241;43m.\u001b[39;49m\u001b[43mread\u001b[49m\u001b[43m(\u001b[49m\u001b[43mnrows\u001b[49m\u001b[43m)\u001b[49m\n",
      "File \u001b[0;32m~/anaconda/envs/veliadash/lib/python3.11/site-packages/pandas/io/parsers/readers.py:1704\u001b[0m, in \u001b[0;36mTextFileReader.read\u001b[0;34m(self, nrows)\u001b[0m\n\u001b[1;32m   1697\u001b[0m nrows \u001b[38;5;241m=\u001b[39m validate_integer(\u001b[38;5;124m\"\u001b[39m\u001b[38;5;124mnrows\u001b[39m\u001b[38;5;124m\"\u001b[39m, nrows)\n\u001b[1;32m   1698\u001b[0m \u001b[38;5;28;01mtry\u001b[39;00m:\n\u001b[1;32m   1699\u001b[0m     \u001b[38;5;66;03m# error: \"ParserBase\" has no attribute \"read\"\u001b[39;00m\n\u001b[1;32m   1700\u001b[0m     (\n\u001b[1;32m   1701\u001b[0m         index,\n\u001b[1;32m   1702\u001b[0m         columns,\n\u001b[1;32m   1703\u001b[0m         col_dict,\n\u001b[0;32m-> 1704\u001b[0m     ) \u001b[38;5;241m=\u001b[39m \u001b[38;5;28;43mself\u001b[39;49m\u001b[38;5;241;43m.\u001b[39;49m\u001b[43m_engine\u001b[49m\u001b[38;5;241;43m.\u001b[39;49m\u001b[43mread\u001b[49m\u001b[43m(\u001b[49m\u001b[43m  \u001b[49m\u001b[38;5;66;43;03m# type: ignore[attr-defined]\u001b[39;49;00m\n\u001b[1;32m   1705\u001b[0m \u001b[43m        \u001b[49m\u001b[43mnrows\u001b[49m\n\u001b[1;32m   1706\u001b[0m \u001b[43m    \u001b[49m\u001b[43m)\u001b[49m\n\u001b[1;32m   1707\u001b[0m \u001b[38;5;28;01mexcept\u001b[39;00m \u001b[38;5;167;01mException\u001b[39;00m:\n\u001b[1;32m   1708\u001b[0m     \u001b[38;5;28mself\u001b[39m\u001b[38;5;241m.\u001b[39mclose()\n",
      "File \u001b[0;32m~/anaconda/envs/veliadash/lib/python3.11/site-packages/pandas/io/parsers/c_parser_wrapper.py:234\u001b[0m, in \u001b[0;36mCParserWrapper.read\u001b[0;34m(self, nrows)\u001b[0m\n\u001b[1;32m    232\u001b[0m \u001b[38;5;28;01mtry\u001b[39;00m:\n\u001b[1;32m    233\u001b[0m     \u001b[38;5;28;01mif\u001b[39;00m \u001b[38;5;28mself\u001b[39m\u001b[38;5;241m.\u001b[39mlow_memory:\n\u001b[0;32m--> 234\u001b[0m         chunks \u001b[38;5;241m=\u001b[39m \u001b[38;5;28;43mself\u001b[39;49m\u001b[38;5;241;43m.\u001b[39;49m\u001b[43m_reader\u001b[49m\u001b[38;5;241;43m.\u001b[39;49m\u001b[43mread_low_memory\u001b[49m\u001b[43m(\u001b[49m\u001b[43mnrows\u001b[49m\u001b[43m)\u001b[49m\n\u001b[1;32m    235\u001b[0m         \u001b[38;5;66;03m# destructive to chunks\u001b[39;00m\n\u001b[1;32m    236\u001b[0m         data \u001b[38;5;241m=\u001b[39m _concatenate_chunks(chunks)\n",
      "File \u001b[0;32m~/anaconda/envs/veliadash/lib/python3.11/site-packages/pandas/_libs/parsers.pyx:812\u001b[0m, in \u001b[0;36mpandas._libs.parsers.TextReader.read_low_memory\u001b[0;34m()\u001b[0m\n",
      "File \u001b[0;32m~/anaconda/envs/veliadash/lib/python3.11/site-packages/pandas/_libs/parsers.pyx:873\u001b[0m, in \u001b[0;36mpandas._libs.parsers.TextReader._read_rows\u001b[0;34m()\u001b[0m\n",
      "File \u001b[0;32m~/anaconda/envs/veliadash/lib/python3.11/site-packages/pandas/_libs/parsers.pyx:848\u001b[0m, in \u001b[0;36mpandas._libs.parsers.TextReader._tokenize_rows\u001b[0;34m()\u001b[0m\n",
      "File \u001b[0;32m~/anaconda/envs/veliadash/lib/python3.11/site-packages/pandas/_libs/parsers.pyx:859\u001b[0m, in \u001b[0;36mpandas._libs.parsers.TextReader._check_tokenize_status\u001b[0;34m()\u001b[0m\n",
      "File \u001b[0;32m~/anaconda/envs/veliadash/lib/python3.11/site-packages/pandas/_libs/parsers.pyx:2017\u001b[0m, in \u001b[0;36mpandas._libs.parsers.raise_parser_error\u001b[0;34m()\u001b[0m\n",
      "\u001b[0;31mUnicodeDecodeError\u001b[0m: 'utf-8' codec can't decode byte 0xca in position 15827: invalid continuation byte"
     ]
    }
   ],
   "source": [
    "metadata = pd.read_table('s3://velia-data-dev/VDC_004_annotation/20230329_tcga_data/Xena/TcgaTargetGTEX_phenotype.txt')\n",
    "metadata"
   ]
  },
  {
   "cell_type": "code",
   "execution_count": 38,
   "id": "0a34af0c-545c-4887-91b1-93652c858583",
   "metadata": {},
   "outputs": [
    {
     "data": {
      "text/plain": [
       "Index(['GTEX-S4Q7-0003-SM-3NM8M', 'TCGA-19-1787-01', 'TCGA-S9-A7J2-01',\n",
       "       'GTEX-QV31-1626-SM-2S1QC', 'TCGA-G3-A3CH-11',\n",
       "       'GTEX-13OVI-1026-SM-5L3EM', 'GTEX-13OW5-0626-SM-5J2N2',\n",
       "       'GTEX-XUZC-2026-SM-4BRW9', 'TCGA-EK-A2RE-01', 'TCGA-D5-5538-01',\n",
       "       ...\n",
       "       'TCGA-IB-7885-01', 'TCGA-B6-A0IA-01', 'GTEX-1117F-2826-SM-5GZXL',\n",
       "       'TCGA-VQ-AA6F-01', 'TCGA-BR-8588-01', 'GTEX-11ZTS-3326-SM-5LU9Y',\n",
       "       'TCGA-DD-A115-01', 'GTEX-ZA64-2126-SM-5Q5A8', 'TCGA-FV-A3I0-11',\n",
       "       'GTEX-XV7Q-0426-SM-4BRVN'],\n",
       "      dtype='object', length=19126)"
      ]
     },
     "execution_count": 38,
     "metadata": {},
     "output_type": "execute_result"
    }
   ],
   "source": []
  },
  {
   "cell_type": "code",
   "execution_count": 39,
   "id": "6cf12b04-d8a3-487d-95db-a9625541b34b",
   "metadata": {},
   "outputs": [],
   "source": [
    "    transcripts_to_load = transcript_matching_results\n",
    "    \n",
    "    xena_transcripts = pd.read_csv('s3://velia-data-dev/VDC_004_annotation/20230329_tcga_data/xena_transcript_names.csv')\n",
    "    if transcripts_to_load is None:\n",
    "        transcripts_to_map = xena_transcripts['Xena Transcripts']\n",
    "    else:\n",
    "        overlapping_xena_sorf_transcripts = set(xena_transcripts['Xena Transcripts']).intersection(set(transcripts_to_load))\n",
    "    xena = pd.read_feather('s3://velia-data-dev/VDC_004_annotation/20230329_tcga_data/xena.feather', columns = ['index']+list(overlapping_xena_sorf_transcripts))\n",
    "    xena.index = xena.pop('index')\n",
    "    metadata = pd.read_table('s3://velia-data-dev/VDC_004_annotation/20230329_tcga_data/Xena/TcgaTargetGTEX_phenotype.txt',\n",
    "                             encoding = \"ISO-8859-1\", index_col=0)\n",
    "    metadata = metadata[~metadata['_primary_site'].isna()]\n",
    "    ordr = xena.index.intersection(metadata.index)\n",
    "    xena = xena.loc[ordr].copy()\n",
    "    metadata = metadata.loc[ordr].copy()\n",
    "\n",
    "    tissue_pairs = pd.read_excel('s3://velia-data-dev/VDC_004_annotation/20230329_tcga_data/Xena/GTEx_TCGA_comparisons.xlsx')\n",
    "    tissue_pairs['GTEx Tissue Type'] = tissue_pairs['GTEx Tissue Type'].str.replace('whole ', '')\n",
    "    tissue_pairs = tissue_pairs[tissue_pairs['GTEx Tissue Type']!='--']\n",
    "    \n",
    "    # tissue_pairs.head(4)"
   ]
  },
  {
   "cell_type": "code",
   "execution_count": 36,
   "id": "e8209e0c-7369-479c-a73c-e884600efdce",
   "metadata": {},
   "outputs": [
    {
     "data": {
      "text/html": [
       "<div>\n",
       "<style scoped>\n",
       "    .dataframe tbody tr th:only-of-type {\n",
       "        vertical-align: middle;\n",
       "    }\n",
       "\n",
       "    .dataframe tbody tr th {\n",
       "        vertical-align: top;\n",
       "    }\n",
       "\n",
       "    .dataframe thead th {\n",
       "        text-align: right;\n",
       "    }\n",
       "</style>\n",
       "<table border=\"1\" class=\"dataframe\">\n",
       "  <thead>\n",
       "    <tr style=\"text-align: right;\">\n",
       "      <th></th>\n",
       "      <th>TCGA Cancer Type</th>\n",
       "      <th>Description</th>\n",
       "      <th>GTEx Tissue Type</th>\n",
       "      <th>Ambiguity</th>\n",
       "      <th>Unnamed: 4</th>\n",
       "      <th>Unnamed: 5</th>\n",
       "    </tr>\n",
       "  </thead>\n",
       "  <tbody>\n",
       "    <tr>\n",
       "      <th>0</th>\n",
       "      <td>ACC</td>\n",
       "      <td>Adrenocortical Cancer</td>\n",
       "      <td>adrenal gland</td>\n",
       "      <td>N</td>\n",
       "      <td>NaN</td>\n",
       "      <td>NaN</td>\n",
       "    </tr>\n",
       "    <tr>\n",
       "      <th>1</th>\n",
       "      <td>BLCA</td>\n",
       "      <td>bladder urothelial carcinoma</td>\n",
       "      <td>bladder</td>\n",
       "      <td>N</td>\n",
       "      <td>NaN</td>\n",
       "      <td>NaN</td>\n",
       "    </tr>\n",
       "    <tr>\n",
       "      <th>2</th>\n",
       "      <td>BRCA</td>\n",
       "      <td>breast invasive carcinoma</td>\n",
       "      <td>breast</td>\n",
       "      <td>N</td>\n",
       "      <td>NaN</td>\n",
       "      <td>NaN</td>\n",
       "    </tr>\n",
       "    <tr>\n",
       "      <th>3</th>\n",
       "      <td>CESC</td>\n",
       "      <td>Cervical &amp; Endocervical Cancer</td>\n",
       "      <td>cervix uteri</td>\n",
       "      <td>N</td>\n",
       "      <td>NaN</td>\n",
       "      <td>NaN</td>\n",
       "    </tr>\n",
       "  </tbody>\n",
       "</table>\n",
       "</div>"
      ],
      "text/plain": [
       "  TCGA Cancer Type                     Description GTEx Tissue Type Ambiguity  \\\n",
       "0              ACC           Adrenocortical Cancer    adrenal gland         N   \n",
       "1             BLCA    bladder urothelial carcinoma          bladder         N   \n",
       "2             BRCA       breast invasive carcinoma           breast         N   \n",
       "3             CESC  Cervical & Endocervical Cancer     cervix uteri         N   \n",
       "\n",
       "  Unnamed: 4 Unnamed: 5  \n",
       "0        NaN        NaN  \n",
       "1        NaN        NaN  \n",
       "2        NaN        NaN  \n",
       "3        NaN        NaN  "
      ]
     },
     "execution_count": 36,
     "metadata": {},
     "output_type": "execute_result"
    }
   ],
   "source": []
  },
  {
   "cell_type": "code",
   "execution_count": 35,
   "id": "4f77c5a1-1b92-4534-bde8-675681165411",
   "metadata": {},
   "outputs": [
    {
     "data": {
      "text/html": [
       "<div>\n",
       "<style scoped>\n",
       "    .dataframe tbody tr th:only-of-type {\n",
       "        vertical-align: middle;\n",
       "    }\n",
       "\n",
       "    .dataframe tbody tr th {\n",
       "        vertical-align: top;\n",
       "    }\n",
       "\n",
       "    .dataframe thead th {\n",
       "        text-align: right;\n",
       "    }\n",
       "</style>\n",
       "<table border=\"1\" class=\"dataframe\">\n",
       "  <thead>\n",
       "    <tr style=\"text-align: right;\">\n",
       "      <th></th>\n",
       "      <th>detailed_category</th>\n",
       "      <th>primary disease or tissue</th>\n",
       "      <th>_primary_site</th>\n",
       "      <th>_sample_type</th>\n",
       "      <th>_gender</th>\n",
       "      <th>_study</th>\n",
       "    </tr>\n",
       "    <tr>\n",
       "      <th>sample</th>\n",
       "      <th></th>\n",
       "      <th></th>\n",
       "      <th></th>\n",
       "      <th></th>\n",
       "      <th></th>\n",
       "      <th></th>\n",
       "    </tr>\n",
       "  </thead>\n",
       "  <tbody>\n",
       "    <tr>\n",
       "      <th>TCGA-V4-A9EE-01</th>\n",
       "      <td>Uveal Melanoma</td>\n",
       "      <td>Uveal Melanoma</td>\n",
       "      <td>Eye</td>\n",
       "      <td>Primary Tumor</td>\n",
       "      <td>Male</td>\n",
       "      <td>TCGA</td>\n",
       "    </tr>\n",
       "    <tr>\n",
       "      <th>TCGA-VD-AA8N-01</th>\n",
       "      <td>Uveal Melanoma</td>\n",
       "      <td>Uveal Melanoma</td>\n",
       "      <td>Eye</td>\n",
       "      <td>Primary Tumor</td>\n",
       "      <td>Male</td>\n",
       "      <td>TCGA</td>\n",
       "    </tr>\n",
       "    <tr>\n",
       "      <th>TCGA-V4-A9EI-01</th>\n",
       "      <td>Uveal Melanoma</td>\n",
       "      <td>Uveal Melanoma</td>\n",
       "      <td>Eye</td>\n",
       "      <td>Primary Tumor</td>\n",
       "      <td>Male</td>\n",
       "      <td>TCGA</td>\n",
       "    </tr>\n",
       "    <tr>\n",
       "      <th>TCGA-VD-AA8O-01</th>\n",
       "      <td>Uveal Melanoma</td>\n",
       "      <td>Uveal Melanoma</td>\n",
       "      <td>Eye</td>\n",
       "      <td>Primary Tumor</td>\n",
       "      <td>Male</td>\n",
       "      <td>TCGA</td>\n",
       "    </tr>\n",
       "    <tr>\n",
       "      <th>TCGA-WC-A888-01</th>\n",
       "      <td>Uveal Melanoma</td>\n",
       "      <td>Uveal Melanoma</td>\n",
       "      <td>Eye</td>\n",
       "      <td>Primary Tumor</td>\n",
       "      <td>Male</td>\n",
       "      <td>TCGA</td>\n",
       "    </tr>\n",
       "    <tr>\n",
       "      <th>...</th>\n",
       "      <td>...</td>\n",
       "      <td>...</td>\n",
       "      <td>...</td>\n",
       "      <td>...</td>\n",
       "      <td>...</td>\n",
       "      <td>...</td>\n",
       "    </tr>\n",
       "    <tr>\n",
       "      <th>TARGET-20-PANPKN-09</th>\n",
       "      <td>Acute Myeloid Leukemia</td>\n",
       "      <td>Acute Myeloid Leukemia</td>\n",
       "      <td>White blood cell</td>\n",
       "      <td>Primary Blood Derived Cancer - Bone Marrow</td>\n",
       "      <td>Male</td>\n",
       "      <td>TARGET</td>\n",
       "    </tr>\n",
       "    <tr>\n",
       "      <th>TARGET-20-PANLIR-09</th>\n",
       "      <td>Acute Myeloid Leukemia</td>\n",
       "      <td>Acute Myeloid Leukemia</td>\n",
       "      <td>White blood cell</td>\n",
       "      <td>Primary Blood Derived Cancer - Bone Marrow</td>\n",
       "      <td>Male</td>\n",
       "      <td>TARGET</td>\n",
       "    </tr>\n",
       "    <tr>\n",
       "      <th>TARGET-20-PAPAWN-09</th>\n",
       "      <td>Acute Myeloid Leukemia</td>\n",
       "      <td>Acute Myeloid Leukemia</td>\n",
       "      <td>White blood cell</td>\n",
       "      <td>Primary Blood Derived Cancer - Bone Marrow</td>\n",
       "      <td>Male</td>\n",
       "      <td>TARGET</td>\n",
       "    </tr>\n",
       "    <tr>\n",
       "      <th>TARGET-20-PANPTM-09</th>\n",
       "      <td>Acute Myeloid Leukemia</td>\n",
       "      <td>Acute Myeloid Leukemia</td>\n",
       "      <td>White blood cell</td>\n",
       "      <td>Primary Blood Derived Cancer - Bone Marrow</td>\n",
       "      <td>Male</td>\n",
       "      <td>TARGET</td>\n",
       "    </tr>\n",
       "    <tr>\n",
       "      <th>TARGET-20-PAKIWK-09</th>\n",
       "      <td>Acute Myeloid Leukemia</td>\n",
       "      <td>Acute Myeloid Leukemia</td>\n",
       "      <td>White blood cell</td>\n",
       "      <td>Primary Blood Derived Cancer - Bone Marrow</td>\n",
       "      <td>Male</td>\n",
       "      <td>TARGET</td>\n",
       "    </tr>\n",
       "  </tbody>\n",
       "</table>\n",
       "<p>19126 rows × 6 columns</p>\n",
       "</div>"
      ],
      "text/plain": [
       "                          detailed_category primary disease or tissue  \\\n",
       "sample                                                                  \n",
       "TCGA-V4-A9EE-01              Uveal Melanoma            Uveal Melanoma   \n",
       "TCGA-VD-AA8N-01              Uveal Melanoma            Uveal Melanoma   \n",
       "TCGA-V4-A9EI-01              Uveal Melanoma            Uveal Melanoma   \n",
       "TCGA-VD-AA8O-01              Uveal Melanoma            Uveal Melanoma   \n",
       "TCGA-WC-A888-01              Uveal Melanoma            Uveal Melanoma   \n",
       "...                                     ...                       ...   \n",
       "TARGET-20-PANPKN-09  Acute Myeloid Leukemia    Acute Myeloid Leukemia   \n",
       "TARGET-20-PANLIR-09  Acute Myeloid Leukemia    Acute Myeloid Leukemia   \n",
       "TARGET-20-PAPAWN-09  Acute Myeloid Leukemia    Acute Myeloid Leukemia   \n",
       "TARGET-20-PANPTM-09  Acute Myeloid Leukemia    Acute Myeloid Leukemia   \n",
       "TARGET-20-PAKIWK-09  Acute Myeloid Leukemia    Acute Myeloid Leukemia   \n",
       "\n",
       "                        _primary_site  \\\n",
       "sample                                  \n",
       "TCGA-V4-A9EE-01                   Eye   \n",
       "TCGA-VD-AA8N-01                   Eye   \n",
       "TCGA-V4-A9EI-01                   Eye   \n",
       "TCGA-VD-AA8O-01                   Eye   \n",
       "TCGA-WC-A888-01                   Eye   \n",
       "...                               ...   \n",
       "TARGET-20-PANPKN-09  White blood cell   \n",
       "TARGET-20-PANLIR-09  White blood cell   \n",
       "TARGET-20-PAPAWN-09  White blood cell   \n",
       "TARGET-20-PANPTM-09  White blood cell   \n",
       "TARGET-20-PAKIWK-09  White blood cell   \n",
       "\n",
       "                                                   _sample_type _gender  \\\n",
       "sample                                                                    \n",
       "TCGA-V4-A9EE-01                                   Primary Tumor    Male   \n",
       "TCGA-VD-AA8N-01                                   Primary Tumor    Male   \n",
       "TCGA-V4-A9EI-01                                   Primary Tumor    Male   \n",
       "TCGA-VD-AA8O-01                                   Primary Tumor    Male   \n",
       "TCGA-WC-A888-01                                   Primary Tumor    Male   \n",
       "...                                                         ...     ...   \n",
       "TARGET-20-PANPKN-09  Primary Blood Derived Cancer - Bone Marrow    Male   \n",
       "TARGET-20-PANLIR-09  Primary Blood Derived Cancer - Bone Marrow    Male   \n",
       "TARGET-20-PAPAWN-09  Primary Blood Derived Cancer - Bone Marrow    Male   \n",
       "TARGET-20-PANPTM-09  Primary Blood Derived Cancer - Bone Marrow    Male   \n",
       "TARGET-20-PAKIWK-09  Primary Blood Derived Cancer - Bone Marrow    Male   \n",
       "\n",
       "                     _study  \n",
       "sample                       \n",
       "TCGA-V4-A9EE-01        TCGA  \n",
       "TCGA-VD-AA8N-01        TCGA  \n",
       "TCGA-V4-A9EI-01        TCGA  \n",
       "TCGA-VD-AA8O-01        TCGA  \n",
       "TCGA-WC-A888-01        TCGA  \n",
       "...                     ...  \n",
       "TARGET-20-PANPKN-09  TARGET  \n",
       "TARGET-20-PANLIR-09  TARGET  \n",
       "TARGET-20-PAPAWN-09  TARGET  \n",
       "TARGET-20-PANPTM-09  TARGET  \n",
       "TARGET-20-PAKIWK-09  TARGET  \n",
       "\n",
       "[19126 rows x 6 columns]"
      ]
     },
     "execution_count": 35,
     "metadata": {},
     "output_type": "execute_result"
    }
   ],
   "source": [
    "metadata"
   ]
  },
  {
   "cell_type": "code",
   "execution_count": 21,
   "id": "517ec493-87bb-4911-85e8-b2bec0f7022c",
   "metadata": {},
   "outputs": [
    {
     "data": {
      "text/plain": [
       "['ENST00000525141', 'ENST00000298966', 'ENST00000527149', 'ENST00000596676']"
      ]
     },
     "execution_count": 21,
     "metadata": {},
     "output_type": "execute_result"
    }
   ],
   "source": [
    "transcript_matching_results[7082][-1]"
   ]
  },
  {
   "cell_type": "code",
   "execution_count": 22,
   "id": "3d2d1944-898a-4e49-b62e-23c68594baca",
   "metadata": {},
   "outputs": [
    {
     "data": {
      "text/plain": [
       "['XM_017023741.2', 'ENST00000329565.6']"
      ]
     },
     "execution_count": 22,
     "metadata": {},
     "output_type": "execute_result"
    }
   ],
   "source": [
    "overlapping_tids"
   ]
  },
  {
   "cell_type": "code",
   "execution_count": 25,
   "id": "71bfb98e-f8de-4592-a306-ce511d673dc4",
   "metadata": {},
   "outputs": [
    {
     "name": "stderr",
     "output_type": "stream",
     "text": [
      "  1%|          | 8/644 [00:00<00:49, 12.85it/s]\n"
     ]
    },
    {
     "ename": "KeyError",
     "evalue": "11192",
     "output_type": "error",
     "traceback": [
      "\u001b[0;31m---------------------------------------------------------------------------\u001b[0m",
      "\u001b[0;31mKeyError\u001b[0m                                  Traceback (most recent call last)",
      "Cell \u001b[0;32mIn[25], line 10\u001b[0m\n\u001b[1;32m      6\u001b[0m overlapping_tids \u001b[38;5;241m=\u001b[39m [[i\u001b[38;5;241m.\u001b[39msplit(\u001b[38;5;124m'\u001b[39m\u001b[38;5;124m.\u001b[39m\u001b[38;5;124m'\u001b[39m)[\u001b[38;5;241m0\u001b[39m] \u001b[38;5;28;01mfor\u001b[39;00m i \u001b[38;5;129;01min\u001b[39;00m [t\u001b[38;5;241m.\u001b[39mensembl_id, t\u001b[38;5;241m.\u001b[39mrefseq_id, t\u001b[38;5;241m.\u001b[39mchess_id] \u001b[38;5;28;01mif\u001b[39;00m i][\u001b[38;5;241m0\u001b[39m] \u001b[38;5;28;01mfor\u001b[39;00m t \u001b[38;5;129;01min\u001b[39;00m overlapping_tids]\n\u001b[1;32m      7\u001b[0m \u001b[38;5;66;03m# exact_tids = find_seq_substring(nt, transcripts)\u001b[39;00m\n\u001b[1;32m      8\u001b[0m \u001b[38;5;66;03m# if len(tids)>0:\u001b[39;00m\n\u001b[1;32m      9\u001b[0m \u001b[38;5;66;03m# exact_tids = [i.split('|')[0].split('.')[0] for i in exact_tids]\u001b[39;00m\n\u001b[0;32m---> 10\u001b[0m exact_tids \u001b[38;5;241m=\u001b[39m \u001b[43mtranscript_matching_results\u001b[49m\u001b[43m[\u001b[49m\u001b[43mcurrent_orf\u001b[49m\u001b[38;5;241;43m.\u001b[39;49m\u001b[43mid\u001b[49m\u001b[43m]\u001b[49m[\u001b[38;5;241m-\u001b[39m\u001b[38;5;241m1\u001b[39m]\n\u001b[1;32m     11\u001b[0m nt \u001b[38;5;241m=\u001b[39m transcript_matching_results[current_orf\u001b[38;5;241m.\u001b[39mid][\u001b[38;5;241m0\u001b[39m]\n\u001b[1;32m     12\u001b[0m aa \u001b[38;5;241m=\u001b[39m transcript_matching_results[current_orf\u001b[38;5;241m.\u001b[39mid][\u001b[38;5;241m1\u001b[39m]\n",
      "\u001b[0;31mKeyError\u001b[0m: 11192"
     ]
    }
   ],
   "source": [
    "transcripts_to_map = []\n",
    "with jsonlines.open('sorf_table.jsonlines', mode = 'w') as fh:\n",
    "    for current_orf in tqdm(orfs):\n",
    "        # nt, aa = extract_nucleotide_sequence_broken_psl_starts(current_orf, reference)\n",
    "        overlapping_tids = query_overlapping_transcripts(current_orf, session)\n",
    "        overlapping_tids = [[i.split('.')[0] for i in [t.ensembl_id, t.refseq_id, t.chess_id] if i][0] for t in overlapping_tids]\n",
    "        # exact_tids = find_seq_substring(nt, transcripts)\n",
    "        # if len(tids)>0:\n",
    "        # exact_tids = [i.split('|')[0].split('.')[0] for i in exact_tids]\n",
    "        exact_tids = transcript_matching_results[current_orf.id][-1]\n",
    "        nt = transcript_matching_results[current_orf.id][0]\n",
    "        aa = transcript_matching_results[current_orf.id][1]\n",
    "        attributes = {\n",
    "            'chr': current_orf.assembly.ucsc_style_name,\n",
    "            'vtx': f\"VTX-{str(current_orf.id).zfill(7)}\",\n",
    "            'strand': current_orf.strand,\n",
    "            'start': current_orf.start,\n",
    "            'end': current_orf.end,\n",
    "            'nucl': nt,\n",
    "            'aa': aa,\n",
    "            'transcripts_exact': exact_tids,\n",
    "            'transcripts_overlapping': overlapping_tids,\n",
    "            \n",
    "        }\n",
    "        transcripts_to_map+=exact_tids\n",
    "        transcripts_to_map+=[i.split('.')[0] for i in overlapping_tids if i.startswith('ENST')]\n",
    "        \n",
    "        fh.write(attributes)\n",
    "        # break"
   ]
  },
  {
   "cell_type": "code",
   "execution_count": null,
   "id": "313e65e6-fc97-4375-8437-3281e183d144",
   "metadata": {},
   "outputs": [],
   "source": [
    "assembly_ids = {}\n",
    "\n",
    "for assembly in session.query(base.Assembly).all():\n",
    "    if assembly.ucsc_style_name.startswith('chr') and len(assembly.ucsc_style_name) < 6:\n",
    "        assembly_ids[assembly.ucsc_style_name] = assembly\n",
    "    else:\n",
    "        assembly_ids[assembly.genbank_accession] = assembly"
   ]
  },
  {
   "cell_type": "code",
   "execution_count": null,
   "id": "4c1c7a01-02ff-4349-9b85-e11917db9816",
   "metadata": {},
   "outputs": [],
   "source": [
    "assembly_ids"
   ]
  },
  {
   "cell_type": "code",
   "execution_count": 17,
   "id": "a395cafc-678f-470d-b44d-53c3e40e57ff",
   "metadata": {},
   "outputs": [],
   "source": [
    "from Bio import SeqIO"
   ]
  },
  {
   "cell_type": "code",
   "execution_count": 21,
   "id": "aa09f14a-67de-4b53-a6f4-73a62ab737a2",
   "metadata": {},
   "outputs": [],
   "source": [
    "with smart_open.open('s3://velia-annotation-dev/gencode/v42/gencode.v42.transcripts.fa.gz') as f:\n",
    "    seqs = SeqIO.to_dict(SeqIO.parse(f, 'fasta'))"
   ]
  },
  {
   "cell_type": "code",
   "execution_count": 24,
   "id": "9a2e6df6-99d0-49f1-9eb0-60049da9a76c",
   "metadata": {},
   "outputs": [],
   "source": [
    "# seqs.keys()"
   ]
  },
  {
   "cell_type": "markdown",
   "id": "1c411a8e-9659-446f-bc45-fd2249492f8f",
   "metadata": {},
   "source": [
    "# Map transcripts"
   ]
  },
  {
   "cell_type": "code",
   "execution_count": 253,
   "id": "ff65fce0-6a14-4f85-bcb4-0883816c20c9",
   "metadata": {},
   "outputs": [
    {
     "name": "stdout",
     "output_type": "stream",
     "text": [
      "VTX-0851390 ['ENST00000302392.5|ENSG00000169964.8|OTTHUMG00000133092.3|OTTHUMT00000256750.3|TMEM42-201|TMEM42|977|protein_coding|']\n",
      "VTX-0081996 ['ENST00000611969.5|ENSG00000175701.11|OTTHUMG00000131194.5|OTTHUMT00000477505.2|MTLN-203|MTLN|427|protein_coding|', 'ENST00000414416.2|ENSG00000175701.11|OTTHUMG00000131194.5|OTTHUMT00000253918.4|MTLN-201|MTLN|2051|protein_coding|', 'ENST00000426713.1|ENSG00000175701.11|OTTHUMG00000131194.5|OTTHUMT00000338107.3|MTLN-202|MTLN|461|protein_coding|']\n",
      "VTX-0087927 ['ENST00000546390.2|ENSG00000284791.2|OTTHUMG00000169615.4|OTTHUMT00000405071.2|SMIM41-201|SMIM41|1430|protein_coding|']\n",
      "VTX-0085840 ['ENST00000581851.2|ENSG00000263429.4|OTTHUMG00000132847.7|OTTHUMT00000256321.4|TMEM238L-202|TMEM238L|1535|protein_coding|']\n",
      "VTX-0087707 ['ENST00000641568.1|ENSG00000284713.2|OTTHUMG00000172974.2|OTTHUMT00000491249.1|SMIM38-202|SMIM38|2695|protein_coding|', 'ENST00000686937.1|ENSG00000284713.2|OTTHUMG00000172974.2|-|SMIM38-204|SMIM38|5447|protein_coding|', 'ENST00000686237.1|ENSG00000284713.2|OTTHUMG00000172974.2|-|SMIM38-203|SMIM38|5353|protein_coding|']\n"
     ]
    }
   ],
   "source": [
    "targets = {\n",
    "    'VTX-0851390': 'ATGGCCGAGAGGCCGGGGCCTCCGGGCGGCGCCGTGTCCGCGACCGCGTACCCTGACACCCCCGCGGAATTCCCTCCGCACCTCCAGGCGGGTGCGATGCGGCGCCGCTTTTGGGGCGTATTCAACTGTCTGTGCGCCGGCGCGTTCGGGGCCCTGGCCGCCGCCTCCGCCAAGCTGGCCTTCGGCAGCGAGGTGAGCATGGGTTTATGCGTCTTAGGCATTATTGTGATGGCGAGCACCAATTCTCTGATGTGGACCTTCTTTAGCCGGGGCCTCAGTTTCTCCATGTCTTCAGCCATTGCATCTGTCACAGTGACTTTTTCAAATATCCTCAGCTCGGCCTTCCTGGGCTATGTGCTGTATGGAGAGTGCCAGGAGGTCTTGTGGTGGGGAGGAGTGTTCCTTATTCTCTGCGGACTCACCCTAATCCACAGGAAGCTCCCACCCACCTGGAAGCCCCTTCCACACAAGCAGCAG',\n",
    "    'VTX-0081996': 'ATGGCGGATGTGTCAGAGAGGACACTGCAGTTGTCCGTGCTAGTAGCCTTCGCTTCTGGAGTACTCCTGGGCTGGCAGGCGAACCGACTGCGGAGGCGCTACTTGGACTGGAGGAAAAGGAGGCTGCAGGACAAGCTGGCGGCGACGCAGAAGAAGCTGGACCTGGCC',\n",
    "    'VTX-0087927': 'ATGAACGGCTCTCAGGCGGGCGCCGCGGCTCAGGCCGCCTGGCTGAGCTCCTGCTGTAACCAGTCGGCGTCGCCGCCGGAGCCCCCCGAGGGGCCGCGCGCGGTGCAGGCGGTGGTGCTCGGCGTGCTGTCCCTGCTGGTGCTTTGCGGGGTCCTGTTCCTGGGCGGCGGCCTCCTCCTCCGCGCCCAGGGCCTGACAGCGCTGCTGACCCGCGAGCAGCGCGCGTCCCGCGAGCCCGAGCCGGGCAGTGCCAGCGGAGAGGACGGCGACGACGACTCC',\n",
    "    'VTX-0085840': 'ATGCTCCTGGGGAGTCTGTGGGGAAGATGCCATCCAGGGCGCTGTGCGCTCTTCCTCATCCTCGCCCTCCTGCTGGACGCGGTCGGCCTGGTCCTTTTGCTGCTGGGGATCTTGGCCCCCCTGAGTTCCTGGGACTTCTTCATCTACACAGGTGCCCTGATCCTGGCTCTCAGCCTACTGCTCTGGATCATCTGGTATTCCCTCAACATTGAGGTGTCTCCTGAAAAACTGGACCTG',\n",
    "    'VTX-0087707': 'ATGACCTCCTGGCCAGGTGGCAGCTTTGGCCCTGACCCGCTCCTGGCCCTGCTGGTGGTGATCCTGCTAGCACGCCTCATCCTGTGGTCCTGCCTCGGGACCTACATCGACTACAGACTGGCCCAGCGGCGGCCCCAGAAACCCAAGCAGGAC',\n",
    "}\n",
    "for i, s in targets.items():\n",
    "    hit = find_seq_substring(s, transcripts)\n",
    "    print(i, hit)"
   ]
  },
  {
   "cell_type": "code",
   "execution_count": 251,
   "id": "ac1f60c7-e698-48ed-9409-113337172efd",
   "metadata": {},
   "outputs": [],
   "source": [
    "import gzip\n",
    "import fsspec\n",
    "from pyfaidx import Fasta\n",
    "import pandas as pd\n",
    "from tqdm import tqdm\n",
    "\n",
    "# deduped_conservation = pd.read_parquet('deduped_phylocsf_length_filtered.parq')\n",
    "transcripts = Fasta('./gencode.v42.transcripts.fa')\n",
    "\n",
    "def find_seq_substring(query, target_dict):\n",
    "    return [k for k, s in target_dict.items() if query.lower() in s[:].seq.lower()]\n",
    "\n",
    "def extract_sequence(reference, chrom, strand, block_starts, block_sizes):\n",
    "    s = reference[chrom]\n",
    "    sequence = ''\n",
    "    for start, length in zip(block_starts, block_sizes):\n",
    "        end = start + (3*(length-1)) + 3\n",
    "        sequence += str(s[start : end])\n",
    "    sequence+=str(s[end:end+3])\n",
    "    return sequence\n",
    "\n",
    "def pfunc(row):\n",
    "    ix = row['qName']\n",
    "    starts = tuple(map(int, row['tStarts'].strip(',').split(',')))\n",
    "    sizes = tuple(map(int, row['blockSizes'].strip(',').split(',')))\n",
    "    s = extract_sequence(genes, row['tName'], row['strand'], starts, sizes)\n",
    "    # print(row['strand'], s[:3], s[-3:])\n",
    "    # blat_sequences[row['qName']] = s\n",
    "    matches = find_seq_substring(s, transcripts)\n",
    "    if len(matches)>0:\n",
    "        transcript_names = [i.split('|')[0].split('.')[0] for i in matches]\n",
    "        gene_names = [i.split('|')[5] for i in matches]\n",
    "        return ix, {'transcripts': transcript_names, 'genes': gene_names, 'sequence': s}\n",
    "    else:\n",
    "        return ix, {'transcripts': [], 'genes': [], 'sequence': s}\n",
    "    \n",
    "# import multiprocessing as mp\n",
    "# with mp.Pool(120) as ppool:\n",
    "#     annotations = {}\n",
    "#     ixes, rows = list(zip(*deduped_conservation.iterrows()))\n",
    "#     for r in tqdm(ppool.imap(pfunc, rows), total=50000):#, total=signalp_and_conserved.shape[0]):\n",
    "#         annotations[r[0]] = r[1]"
   ]
  },
  {
   "cell_type": "code",
   "execution_count": null,
   "id": "ee4c37da-f86d-4932-a9ea-97160401cc39",
   "metadata": {},
   "outputs": [],
   "source": []
  }
 ],
 "metadata": {
  "kernelspec": {
   "display_name": "Python 3 (ipykernel)",
   "language": "python",
   "name": "python3"
  },
  "language_info": {
   "codemirror_mode": {
    "name": "ipython",
    "version": 3
   },
   "file_extension": ".py",
   "mimetype": "text/x-python",
   "name": "python",
   "nbconvert_exporter": "python",
   "pygments_lexer": "ipython3",
   "version": "3.11.3"
  }
 },
 "nbformat": 4,
 "nbformat_minor": 5
}
