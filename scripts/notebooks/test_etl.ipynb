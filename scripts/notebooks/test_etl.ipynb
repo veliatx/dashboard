{
 "cells": [
  {
   "cell_type": "code",
   "execution_count": 1,
   "metadata": {},
   "outputs": [
    {
     "name": "stderr",
     "output_type": "stream",
     "text": [
      "2023-12-15 08:10:14.589 WARNING streamlit.runtime.caching.cache_data_api: No runtime found, using MemoryCacheStorageManager\n",
      "2023-12-15 08:10:14.607 WARNING streamlit.runtime.caching.cache_data_api: No runtime found, using MemoryCacheStorageManager\n",
      "2023-12-15 08:10:14.609 WARNING streamlit.runtime.caching.cache_data_api: No runtime found, using MemoryCacheStorageManager\n",
      "2023-12-15 08:10:14.613 WARNING streamlit.runtime.caching.cache_data_api: No runtime found, using MemoryCacheStorageManager\n",
      "2023-12-15 08:10:14.614 WARNING streamlit.runtime.caching.cache_data_api: No runtime found, using MemoryCacheStorageManager\n",
      "2023-12-15 08:10:14.615 WARNING streamlit.runtime.caching.cache_data_api: No runtime found, using MemoryCacheStorageManager\n",
      "2023-12-15 08:10:14.616 WARNING streamlit.runtime.caching.cache_data_api: No runtime found, using MemoryCacheStorageManager\n",
      "2023-12-15 08:10:14.616 WARNING streamlit.runtime.caching.cache_data_api: No runtime found, using MemoryCacheStorageManager\n",
      "2023-12-15 08:10:14.617 WARNING streamlit.runtime.caching.cache_data_api: No runtime found, using MemoryCacheStorageManager\n",
      "2023-12-15 08:10:14.620 WARNING streamlit.runtime.caching.cache_data_api: No runtime found, using MemoryCacheStorageManager\n"
     ]
    }
   ],
   "source": [
    "import os\n",
    "import subprocess, shlex\n",
    "import simplejson as json\n",
    "import pandas as pd\n",
    "from dashboard.data_load import load_mouse_blastp_results, load_esmfold\n",
    "from dashboard import util\n",
    "from pathlib import Path\n",
    "\n",
    "import sqlite3"
   ]
  },
  {
   "cell_type": "code",
   "execution_count": 2,
   "metadata": {},
   "outputs": [],
   "source": [
    "from dashboard.etl import DATA_DIR, CACHE_DIR\n"
   ]
  },
  {
   "cell_type": "code",
   "execution_count": 3,
   "metadata": {},
   "outputs": [],
   "source": [
    "db_address = DATA_DIR.joinpath('autoimmune_expression_atlas_v1.db')\n",
    "df = util.query_de_transcripts('ENST00000510048.1', db_address).fillna(0.01)"
   ]
  },
  {
   "cell_type": "code",
   "execution_count": 4,
   "metadata": {},
   "outputs": [],
   "source": [
    "  \n",
    "with sqlite3.connect(db_address) as sqliteConnection:\n",
    "    available_studies_df = pd.read_sql(\"SELECT * FROM transcript_de LIMIT 20\", sqliteConnection)\n",
    "\n",
    "available_studies_df"
   ]
  },
  {
   "cell_type": "code",
   "execution_count": 6,
   "metadata": {},
   "outputs": [
    {
     "data": {
      "text/html": [
       "<div>\n",
       "<style scoped>\n",
       "    .dataframe tbody tr th:only-of-type {\n",
       "        vertical-align: middle;\n",
       "    }\n",
       "\n",
       "    .dataframe tbody tr th {\n",
       "        vertical-align: top;\n",
       "    }\n",
       "\n",
       "    .dataframe thead th {\n",
       "        text-align: right;\n",
       "    }\n",
       "</style>\n",
       "<table border=\"1\" class=\"dataframe\">\n",
       "  <thead>\n",
       "    <tr style=\"text-align: right;\">\n",
       "      <th></th>\n",
       "      <th>velia_study</th>\n",
       "      <th>contrast</th>\n",
       "    </tr>\n",
       "  </thead>\n",
       "  <tbody>\n",
       "    <tr>\n",
       "      <th>0</th>\n",
       "      <td>ERP106487</td>\n",
       "      <td>CROHNSDISEASE_VS_CONTROL</td>\n",
       "    </tr>\n",
       "    <tr>\n",
       "      <th>1</th>\n",
       "      <td>ERP106487</td>\n",
       "      <td>ULCERATIVECOLITIS_VS_CONTROL</td>\n",
       "    </tr>\n",
       "    <tr>\n",
       "      <th>2</th>\n",
       "      <td>ERP106487</td>\n",
       "      <td>ULCERATIVECOLITIS_VS_CROHNSDISEASE</td>\n",
       "    </tr>\n",
       "    <tr>\n",
       "      <th>3</th>\n",
       "      <td>GSE102371</td>\n",
       "      <td>TYPE_1_DIABETES_vs_CONTROL</td>\n",
       "    </tr>\n",
       "    <tr>\n",
       "      <th>4</th>\n",
       "      <td>GSE110914</td>\n",
       "      <td>PRE_TYPE_1_DIABETES_vs_CONTROL</td>\n",
       "    </tr>\n",
       "    <tr>\n",
       "      <th>5</th>\n",
       "      <td>GSE110914</td>\n",
       "      <td>TYPE_1_DIABETES_vs_CONTROL</td>\n",
       "    </tr>\n",
       "    <tr>\n",
       "      <th>6</th>\n",
       "      <td>GSE110914</td>\n",
       "      <td>TYPE_1_DIABETES_vs_PRE_TYPE_1_DIABETES</td>\n",
       "    </tr>\n",
       "    <tr>\n",
       "      <th>7</th>\n",
       "      <td>GSE112087</td>\n",
       "      <td>SYSTEMIC_LUPUS_ERYTHEMATOSUS_vs_CONTROL</td>\n",
       "    </tr>\n",
       "    <tr>\n",
       "      <th>8</th>\n",
       "      <td>GSE120178</td>\n",
       "      <td>RHEUMATOID_ARTHRITIS_vs_CONTROL</td>\n",
       "    </tr>\n",
       "    <tr>\n",
       "      <th>9</th>\n",
       "      <td>GSE122459</td>\n",
       "      <td>SYSTEMIC_LUPUS_ERYTHEMATOSUS_vs_CONTROL</td>\n",
       "    </tr>\n",
       "    <tr>\n",
       "      <th>10</th>\n",
       "      <td>GSE139358</td>\n",
       "      <td>SYSTEMIC_LUPUS_ERYTHEMATOSUS_vs_CONTROL</td>\n",
       "    </tr>\n",
       "    <tr>\n",
       "      <th>11</th>\n",
       "      <td>GSE157159</td>\n",
       "      <td>SJOGRENS_VS_CONTROL</td>\n",
       "    </tr>\n",
       "    <tr>\n",
       "      <th>12</th>\n",
       "      <td>GSE162828</td>\n",
       "      <td>SYSTEMIC_LUPUS_ERYTHEMATOSUS_vs_CONTROL</td>\n",
       "    </tr>\n",
       "    <tr>\n",
       "      <th>13</th>\n",
       "      <td>GSE194263</td>\n",
       "      <td>RHEUMATOID_ARTHRITIS_vs_CONTROL</td>\n",
       "    </tr>\n",
       "    <tr>\n",
       "      <th>14</th>\n",
       "      <td>GSE72509</td>\n",
       "      <td>SYSTEMIC_LUPUS_ERYTHEMATOSUS_vs_CONTROL</td>\n",
       "    </tr>\n",
       "    <tr>\n",
       "      <th>15</th>\n",
       "      <td>GSE80183</td>\n",
       "      <td>SYSTEMIC_LUPUS_ERYTHEMATOSUS_DNA_ANTIGEN+_vs_C...</td>\n",
       "    </tr>\n",
       "    <tr>\n",
       "      <th>16</th>\n",
       "      <td>GSE80183</td>\n",
       "      <td>SYSTEMIC_LUPUS_ERYTHEMATOSUS_DNA_ANTIGEN_NUCLE...</td>\n",
       "    </tr>\n",
       "    <tr>\n",
       "      <th>17</th>\n",
       "      <td>GSE80183</td>\n",
       "      <td>SYSTEMIC_LUPUS_ERYTHEMATOSUS_DNA_ANTIGEN_NUCLE...</td>\n",
       "    </tr>\n",
       "    <tr>\n",
       "      <th>18</th>\n",
       "      <td>GSE80183</td>\n",
       "      <td>SYSTEMIC_LUPUS_ERYTHEMATOSUS_NUCLEAR_ANTIGEN+_...</td>\n",
       "    </tr>\n",
       "    <tr>\n",
       "      <th>19</th>\n",
       "      <td>GSE80183</td>\n",
       "      <td>SYSTEMIC_LUPUS_ERYTHEMATOSUS_NUCLEAR_ANTIGEN+_...</td>\n",
       "    </tr>\n",
       "    <tr>\n",
       "      <th>20</th>\n",
       "      <td>GSE80183</td>\n",
       "      <td>SYSTEMIC_LUPUS_ERYTHEMATOSUS_NUCLEAR_ANTIGEN+_...</td>\n",
       "    </tr>\n",
       "    <tr>\n",
       "      <th>21</th>\n",
       "      <td>GSE83687</td>\n",
       "      <td>CHROHNS_DISEASE_vs_CONTROL</td>\n",
       "    </tr>\n",
       "    <tr>\n",
       "      <th>22</th>\n",
       "      <td>GSE83687</td>\n",
       "      <td>CROHNS_DISEASE_vs_ULCERATIVE_COLITIS</td>\n",
       "    </tr>\n",
       "    <tr>\n",
       "      <th>23</th>\n",
       "      <td>GSE83687</td>\n",
       "      <td>ULCERATIVE_COLITIS_vs_CONTROL</td>\n",
       "    </tr>\n",
       "    <tr>\n",
       "      <th>24</th>\n",
       "      <td>GSE89408</td>\n",
       "      <td>ARTHRALGIA_vs_CONTROL</td>\n",
       "    </tr>\n",
       "    <tr>\n",
       "      <th>25</th>\n",
       "      <td>GSE89408</td>\n",
       "      <td>ARTHRALGIA_vs_UNKNOWN_ARTHRITIS</td>\n",
       "    </tr>\n",
       "    <tr>\n",
       "      <th>26</th>\n",
       "      <td>GSE89408</td>\n",
       "      <td>OSTEOARTHRITIS_vs_ARTHRALGIA</td>\n",
       "    </tr>\n",
       "    <tr>\n",
       "      <th>27</th>\n",
       "      <td>GSE89408</td>\n",
       "      <td>OSTEOARTHRITIS_vs_CONTROL</td>\n",
       "    </tr>\n",
       "    <tr>\n",
       "      <th>28</th>\n",
       "      <td>GSE89408</td>\n",
       "      <td>OSTEOARTHRITIS_vs_UNKNOWN_ARTHRITIS</td>\n",
       "    </tr>\n",
       "    <tr>\n",
       "      <th>29</th>\n",
       "      <td>GSE89408</td>\n",
       "      <td>RHEUMATOID_ARTHRITIS_vs_ARTHRALGIA</td>\n",
       "    </tr>\n",
       "    <tr>\n",
       "      <th>30</th>\n",
       "      <td>GSE89408</td>\n",
       "      <td>RHEUMATOID_ARTHRITIS_vs_CONTROL</td>\n",
       "    </tr>\n",
       "    <tr>\n",
       "      <th>31</th>\n",
       "      <td>GSE89408</td>\n",
       "      <td>RHEUMATOID_ARTHRITIS_vs_OSTEOARTHRITIS</td>\n",
       "    </tr>\n",
       "    <tr>\n",
       "      <th>32</th>\n",
       "      <td>GSE89408</td>\n",
       "      <td>RHEUMATOID_ARTHRITIS_vs_UNKNOWN_ARTHRITIS</td>\n",
       "    </tr>\n",
       "    <tr>\n",
       "      <th>33</th>\n",
       "      <td>GSE89408</td>\n",
       "      <td>UNKNOWN_ARTHRITIS_vs_CONTROL</td>\n",
       "    </tr>\n",
       "    <tr>\n",
       "      <th>34</th>\n",
       "      <td>SRP102685</td>\n",
       "      <td>RHEUMATOID_ARTHRITIS_DMARD_VS_CONTROL</td>\n",
       "    </tr>\n",
       "    <tr>\n",
       "      <th>35</th>\n",
       "      <td>SRP173298</td>\n",
       "      <td>TYPE_1_DIABETES_vs_CONTROL</td>\n",
       "    </tr>\n",
       "    <tr>\n",
       "      <th>36</th>\n",
       "      <td>SRP220377</td>\n",
       "      <td>SYSTEMIC_LUPUS_ERYTHEMATOSUS_vs_CONTROL</td>\n",
       "    </tr>\n",
       "    <tr>\n",
       "      <th>37</th>\n",
       "      <td>SRP220377</td>\n",
       "      <td>SYSTEMIC_LUPUS_ERYTHEMATOSUS_vs_SYSTEMIC_SCLER...</td>\n",
       "    </tr>\n",
       "    <tr>\n",
       "      <th>38</th>\n",
       "      <td>SRP220377</td>\n",
       "      <td>SYSTEMIC_SCLEROSIS_VS_CONTROL</td>\n",
       "    </tr>\n",
       "    <tr>\n",
       "      <th>39</th>\n",
       "      <td>SRP277091</td>\n",
       "      <td>TYPE_2_DIABETES_vs_CONTROL</td>\n",
       "    </tr>\n",
       "    <tr>\n",
       "      <th>40</th>\n",
       "      <td>SRP293215</td>\n",
       "      <td>GRAVES_DISEASE_vs_CONTROL</td>\n",
       "    </tr>\n",
       "    <tr>\n",
       "      <th>41</th>\n",
       "      <td>SRP293215</td>\n",
       "      <td>GRAVES_DISEASE_vs_HASHIMOTOS_THYROIDITIS</td>\n",
       "    </tr>\n",
       "    <tr>\n",
       "      <th>42</th>\n",
       "      <td>SRP293215</td>\n",
       "      <td>HASHIMOTOS_THYROIDITIS_vs_CONTROL</td>\n",
       "    </tr>\n",
       "    <tr>\n",
       "      <th>43</th>\n",
       "      <td>SRP363868</td>\n",
       "      <td>BEHCETS_DISEASE_vs_CONTROL</td>\n",
       "    </tr>\n",
       "    <tr>\n",
       "      <th>44</th>\n",
       "      <td>SRP379573</td>\n",
       "      <td>BEHCETS_DISEASE_vs_CONTROL</td>\n",
       "    </tr>\n",
       "    <tr>\n",
       "      <th>45</th>\n",
       "      <td>SRP414798</td>\n",
       "      <td>TYPE_2_DIABETES_vs_CONTROL</td>\n",
       "    </tr>\n",
       "    <tr>\n",
       "      <th>46</th>\n",
       "      <td>GSE194263</td>\n",
       "      <td>SJOGRENS_SYNDROME_vs_CONTROL</td>\n",
       "    </tr>\n",
       "    <tr>\n",
       "      <th>47</th>\n",
       "      <td>SRP055438</td>\n",
       "      <td>CROHNS_DISEASE_vs_CONTROL</td>\n",
       "    </tr>\n",
       "    <tr>\n",
       "      <th>48</th>\n",
       "      <td>SRP090849</td>\n",
       "      <td>OSTEOSARCOMA_vs_CONTROL</td>\n",
       "    </tr>\n",
       "    <tr>\n",
       "      <th>49</th>\n",
       "      <td>SRP100787</td>\n",
       "      <td>CROHNS_DISEASE_REMISSION_vs_CONTROL</td>\n",
       "    </tr>\n",
       "    <tr>\n",
       "      <th>50</th>\n",
       "      <td>SRP100787</td>\n",
       "      <td>CROHNS_DISEASE_vs_CONTROL</td>\n",
       "    </tr>\n",
       "    <tr>\n",
       "      <th>51</th>\n",
       "      <td>SRP100787</td>\n",
       "      <td>CROHNS_DISEASE_vs_CROHNS_DISEASE_REMISSION</td>\n",
       "    </tr>\n",
       "    <tr>\n",
       "      <th>52</th>\n",
       "      <td>SRP100787</td>\n",
       "      <td>CROHNS_DISEASE_vs_ULCERATIVE_COLITIS</td>\n",
       "    </tr>\n",
       "    <tr>\n",
       "      <th>53</th>\n",
       "      <td>SRP100787</td>\n",
       "      <td>ULCERATIVE_COLITIS_REMISSION_vs_CONTROL</td>\n",
       "    </tr>\n",
       "    <tr>\n",
       "      <th>54</th>\n",
       "      <td>SRP100787</td>\n",
       "      <td>ULCERATIVE_COLITIS_vs_CONTROL</td>\n",
       "    </tr>\n",
       "    <tr>\n",
       "      <th>55</th>\n",
       "      <td>SRP100787</td>\n",
       "      <td>ULCERATIVE_COLITIS_vs_ULCERATIVE_COLITIS_REMIS...</td>\n",
       "    </tr>\n",
       "    <tr>\n",
       "      <th>56</th>\n",
       "      <td>SRP113470</td>\n",
       "      <td>CROHNS_DISEASE_vs_CONTROL</td>\n",
       "    </tr>\n",
       "    <tr>\n",
       "      <th>57</th>\n",
       "      <td>SRP149374</td>\n",
       "      <td>MYELODYSPLASTIC_SYNDROME_vs_CONTROL</td>\n",
       "    </tr>\n",
       "  </tbody>\n",
       "</table>\n",
       "</div>"
      ],
      "text/plain": [
       "   velia_study                                           contrast\n",
       "0    ERP106487                           CROHNSDISEASE_VS_CONTROL\n",
       "1    ERP106487                       ULCERATIVECOLITIS_VS_CONTROL\n",
       "2    ERP106487                 ULCERATIVECOLITIS_VS_CROHNSDISEASE\n",
       "3    GSE102371                         TYPE_1_DIABETES_vs_CONTROL\n",
       "4    GSE110914                     PRE_TYPE_1_DIABETES_vs_CONTROL\n",
       "5    GSE110914                         TYPE_1_DIABETES_vs_CONTROL\n",
       "6    GSE110914             TYPE_1_DIABETES_vs_PRE_TYPE_1_DIABETES\n",
       "7    GSE112087            SYSTEMIC_LUPUS_ERYTHEMATOSUS_vs_CONTROL\n",
       "8    GSE120178                    RHEUMATOID_ARTHRITIS_vs_CONTROL\n",
       "9    GSE122459            SYSTEMIC_LUPUS_ERYTHEMATOSUS_vs_CONTROL\n",
       "10   GSE139358            SYSTEMIC_LUPUS_ERYTHEMATOSUS_vs_CONTROL\n",
       "11   GSE157159                                SJOGRENS_VS_CONTROL\n",
       "12   GSE162828            SYSTEMIC_LUPUS_ERYTHEMATOSUS_vs_CONTROL\n",
       "13   GSE194263                    RHEUMATOID_ARTHRITIS_vs_CONTROL\n",
       "14    GSE72509            SYSTEMIC_LUPUS_ERYTHEMATOSUS_vs_CONTROL\n",
       "15    GSE80183  SYSTEMIC_LUPUS_ERYTHEMATOSUS_DNA_ANTIGEN+_vs_C...\n",
       "16    GSE80183  SYSTEMIC_LUPUS_ERYTHEMATOSUS_DNA_ANTIGEN_NUCLE...\n",
       "17    GSE80183  SYSTEMIC_LUPUS_ERYTHEMATOSUS_DNA_ANTIGEN_NUCLE...\n",
       "18    GSE80183  SYSTEMIC_LUPUS_ERYTHEMATOSUS_NUCLEAR_ANTIGEN+_...\n",
       "19    GSE80183  SYSTEMIC_LUPUS_ERYTHEMATOSUS_NUCLEAR_ANTIGEN+_...\n",
       "20    GSE80183  SYSTEMIC_LUPUS_ERYTHEMATOSUS_NUCLEAR_ANTIGEN+_...\n",
       "21    GSE83687                         CHROHNS_DISEASE_vs_CONTROL\n",
       "22    GSE83687               CROHNS_DISEASE_vs_ULCERATIVE_COLITIS\n",
       "23    GSE83687                      ULCERATIVE_COLITIS_vs_CONTROL\n",
       "24    GSE89408                              ARTHRALGIA_vs_CONTROL\n",
       "25    GSE89408                    ARTHRALGIA_vs_UNKNOWN_ARTHRITIS\n",
       "26    GSE89408                       OSTEOARTHRITIS_vs_ARTHRALGIA\n",
       "27    GSE89408                          OSTEOARTHRITIS_vs_CONTROL\n",
       "28    GSE89408                OSTEOARTHRITIS_vs_UNKNOWN_ARTHRITIS\n",
       "29    GSE89408                 RHEUMATOID_ARTHRITIS_vs_ARTHRALGIA\n",
       "30    GSE89408                    RHEUMATOID_ARTHRITIS_vs_CONTROL\n",
       "31    GSE89408             RHEUMATOID_ARTHRITIS_vs_OSTEOARTHRITIS\n",
       "32    GSE89408          RHEUMATOID_ARTHRITIS_vs_UNKNOWN_ARTHRITIS\n",
       "33    GSE89408                       UNKNOWN_ARTHRITIS_vs_CONTROL\n",
       "34   SRP102685              RHEUMATOID_ARTHRITIS_DMARD_VS_CONTROL\n",
       "35   SRP173298                         TYPE_1_DIABETES_vs_CONTROL\n",
       "36   SRP220377            SYSTEMIC_LUPUS_ERYTHEMATOSUS_vs_CONTROL\n",
       "37   SRP220377  SYSTEMIC_LUPUS_ERYTHEMATOSUS_vs_SYSTEMIC_SCLER...\n",
       "38   SRP220377                      SYSTEMIC_SCLEROSIS_VS_CONTROL\n",
       "39   SRP277091                         TYPE_2_DIABETES_vs_CONTROL\n",
       "40   SRP293215                          GRAVES_DISEASE_vs_CONTROL\n",
       "41   SRP293215           GRAVES_DISEASE_vs_HASHIMOTOS_THYROIDITIS\n",
       "42   SRP293215                  HASHIMOTOS_THYROIDITIS_vs_CONTROL\n",
       "43   SRP363868                         BEHCETS_DISEASE_vs_CONTROL\n",
       "44   SRP379573                         BEHCETS_DISEASE_vs_CONTROL\n",
       "45   SRP414798                         TYPE_2_DIABETES_vs_CONTROL\n",
       "46   GSE194263                       SJOGRENS_SYNDROME_vs_CONTROL\n",
       "47   SRP055438                          CROHNS_DISEASE_vs_CONTROL\n",
       "48   SRP090849                            OSTEOSARCOMA_vs_CONTROL\n",
       "49   SRP100787                CROHNS_DISEASE_REMISSION_vs_CONTROL\n",
       "50   SRP100787                          CROHNS_DISEASE_vs_CONTROL\n",
       "51   SRP100787         CROHNS_DISEASE_vs_CROHNS_DISEASE_REMISSION\n",
       "52   SRP100787               CROHNS_DISEASE_vs_ULCERATIVE_COLITIS\n",
       "53   SRP100787            ULCERATIVE_COLITIS_REMISSION_vs_CONTROL\n",
       "54   SRP100787                      ULCERATIVE_COLITIS_vs_CONTROL\n",
       "55   SRP100787  ULCERATIVE_COLITIS_vs_ULCERATIVE_COLITIS_REMIS...\n",
       "56   SRP113470                          CROHNS_DISEASE_vs_CONTROL\n",
       "57   SRP149374                MYELODYSPLASTIC_SYNDROME_vs_CONTROL"
      ]
     },
     "execution_count": 6,
     "metadata": {},
     "output_type": "execute_result"
    }
   ],
   "source": []
  },
  {
   "cell_type": "code",
   "execution_count": 6,
   "metadata": {},
   "outputs": [
    {
     "data": {
      "text/plain": [
       "{'SRP100787': 'ULCERATIVE_COLITIS_vs_ULCERATIVE_COLITIS_REMISSION'}"
      ]
     },
     "execution_count": 6,
     "metadata": {},
     "output_type": "execute_result"
    }
   ],
   "source": [
    "metadata = {k:v for k, v in df[['contrast', 'velia_study']].values}\n",
    "metadata"
   ]
  },
  {
   "cell_type": "code",
   "execution_count": 7,
   "metadata": {},
   "outputs": [
    {
     "data": {
      "text/html": [
       "<div>\n",
       "<style scoped>\n",
       "    .dataframe tbody tr th:only-of-type {\n",
       "        vertical-align: middle;\n",
       "    }\n",
       "\n",
       "    .dataframe tbody tr th {\n",
       "        vertical-align: top;\n",
       "    }\n",
       "\n",
       "    .dataframe thead th {\n",
       "        text-align: right;\n",
       "    }\n",
       "</style>\n",
       "<table border=\"1\" class=\"dataframe\">\n",
       "  <thead>\n",
       "    <tr style=\"text-align: right;\">\n",
       "      <th></th>\n",
       "      <th>velia_study</th>\n",
       "      <th>contrast</th>\n",
       "    </tr>\n",
       "  </thead>\n",
       "  <tbody>\n",
       "    <tr>\n",
       "      <th>0</th>\n",
       "      <td>SRP100787</td>\n",
       "      <td>CROHNS_DISEASE_vs_CONTROL</td>\n",
       "    </tr>\n",
       "    <tr>\n",
       "      <th>1</th>\n",
       "      <td>SRP100787</td>\n",
       "      <td>ULCERATIVE_COLITIS_vs_CONTROL</td>\n",
       "    </tr>\n",
       "    <tr>\n",
       "      <th>2</th>\n",
       "      <td>SRP100787</td>\n",
       "      <td>ULCERATIVE_COLITIS_vs_ULCERATIVE_COLITIS_REMIS...</td>\n",
       "    </tr>\n",
       "  </tbody>\n",
       "</table>\n",
       "</div>"
      ],
      "text/plain": [
       "  velia_study                                           contrast\n",
       "0   SRP100787                          CROHNS_DISEASE_vs_CONTROL\n",
       "1   SRP100787                      ULCERATIVE_COLITIS_vs_CONTROL\n",
       "2   SRP100787  ULCERATIVE_COLITIS_vs_ULCERATIVE_COLITIS_REMIS..."
      ]
     },
     "execution_count": 7,
     "metadata": {},
     "output_type": "execute_result"
    }
   ],
   "source": [
    "df[['velia_study', 'contrast']]"
   ]
  },
  {
   "cell_type": "code",
   "execution_count": 11,
   "metadata": {},
   "outputs": [],
   "source": [
    "cache_dir = Path('/home/ubuntu/repos/dashboard/cache/')"
   ]
  },
  {
   "cell_type": "code",
   "execution_count": 8,
   "metadata": {},
   "outputs": [],
   "source": [
    "output_prefix = CACHE_DIR.joinpath('protein_data')"
   ]
  },
  {
   "cell_type": "code",
   "execution_count": 13,
   "metadata": {},
   "outputs": [
    {
     "data": {
      "text/plain": [
       "CompletedProcess(args=['docker', 'run', '--rm', '-v', '/home/ubuntu/repos/dashboard/cache/protein_data:/data', '-v', '/efs/databases/blast:/db', 'ncbi/blast', 'blastp', '-task', 'blastp-fast', '-outfmt', '15', '-db', '/db/mouse.protein.faa', '-query', '/data/protein_tools_input.fasta', '-max_target_seqs', '20', '-out', '/data/blastp.results.json'], returncode=0)"
      ]
     },
     "execution_count": 13,
     "metadata": {},
     "output_type": "execute_result"
    }
   ],
   "source": [
    "subprocess.run(shlex.split(f'docker run  --rm -v {output_prefix}:/data -v /efs/databases/blast:/db ncbi/blast blastp -task blastp-fast -outfmt 15 -db /db/mouse.protein.faa -query /data/protein_tools_input.fasta -max_target_seqs 20 -out /data/blastp.results.json'))\n"
   ]
  },
  {
   "cell_type": "code",
   "execution_count": 22,
   "metadata": {},
   "outputs": [
    {
     "name": "stderr",
     "output_type": "stream",
     "text": [
      "the input device is not a TTY\n"
     ]
    },
    {
     "data": {
      "text/plain": [
       "CompletedProcess(args=['docker', 'run', '--gpus', 'all', '-it', '-v', '/home/ubuntu/repos/protein_tools:/opt/openfold', '-v', '/home/ubuntu/repos/dashboard/cache/protein_data:/data', '328315166908.dkr.ecr.us-west-2.amazonaws.com/esmfold:latest', 'python', '/opt/openfold/run_batch_fasta.py', '/data/protein_tools_input.fasta', '/data/esmfold.jsonlines'], returncode=1)"
      ]
     },
     "execution_count": 22,
     "metadata": {},
     "output_type": "execute_result"
    }
   ],
   "source": [
    "cmd = f'docker run --gpus all -it -v /home/ubuntu/repos/protein_tools:/opt/openfold -v {output_prefix}:/data 328315166908.dkr.ecr.us-west-2.amazonaws.com/esmfold:latest python /opt/openfold/run_batch_fasta.py /data/protein_tools_input.fasta /data/esmfold.jsonlines'\n",
    "subprocess.run(shlex.split(cmd))"
   ]
  },
  {
   "cell_type": "code",
   "execution_count": 23,
   "metadata": {},
   "outputs": [
    {
     "name": "stdout",
     "output_type": "stream",
     "text": [
      "docker run --gpus all -it -v /home/ubuntu/repos/protein_tools:/opt/openfold -v /home/ubuntu/repos/dashboard/cache/protein_data:/data 328315166908.dkr.ecr.us-west-2.amazonaws.com/esmfold:latest python /opt/openfold/run_batch_fasta.py /data/protein_tools_input.fasta /data/esmfold.jsonlines\n"
     ]
    }
   ],
   "source": [
    "print(cmd)"
   ]
  },
  {
   "cell_type": "code",
   "execution_count": 17,
   "metadata": {},
   "outputs": [
    {
     "name": "stderr",
     "output_type": "stream",
     "text": [
      "2023-12-04 20:56:16.680 \n",
      "  \u001b[33m\u001b[1mWarning:\u001b[0m to view this Streamlit app on a browser, run it with the following\n",
      "  command:\n",
      "\n",
      "    streamlit run /opt/conda/envs/veliadash_updated/lib/python3.11/site-packages/ipykernel_launcher.py [ARGUMENTS]\n",
      "2023-12-04 20:56:16.681 No runtime found, using MemoryCacheStorageManager\n"
     ]
    }
   ],
   "source": [
    "esmfold = load_esmfold()\n"
   ]
  },
  {
   "cell_type": "code",
   "execution_count": 19,
   "metadata": {},
   "outputs": [
    {
     "data": {
      "text/plain": [
       "13"
      ]
     },
     "execution_count": 19,
     "metadata": {},
     "output_type": "execute_result"
    }
   ],
   "source": [
    "len(esmfold.keys())"
   ]
  },
  {
   "cell_type": "code",
   "execution_count": 20,
   "metadata": {},
   "outputs": [
    {
     "data": {
      "text/plain": [
       "dict_keys(['MVQGSCWAAGKRGCTS', 'MISAHCDLCFLGSRILLPQPPK', 'MRSRVHTPRGGEALNRETA', 'MPRINREGRRWLFSCLIVFLLSELESHEGEQQKTTN', 'MRFFRLTFKCFVDCF', 'MILQSLLFLQRLLMISTKPAVVLLWPLLKKVENTLMQHVHPNLPA', 'MQHPGEPTCILLARCLECNTTCESENLPRPPAMD', 'MTHNSGSGPGTSNIIK', 'MLEGGFRRKMILCILSLHPNF', 'MANDRRRAQTGPCYDLSWSGSD', 'MQEVSRKGRTPGFEQNFGL', 'MHYLIKRRMDLLFLQLVFQELI', 'MAEIRTLHFAACALRPQNLLYPT'])"
      ]
     },
     "execution_count": 20,
     "metadata": {},
     "output_type": "execute_result"
    }
   ],
   "source": [
    "esmfold.keys()"
   ]
  },
  {
   "cell_type": "code",
   "execution_count": 14,
   "metadata": {},
   "outputs": [],
   "source": [
    "with open(cache_dir.joinpath('protein_data', 'blastp.results.json'), 'r') as fopen:\n",
    "    blastp = json.load(fopen)\n",
    "    blastp = blastp['BlastOutput2']"
   ]
  },
  {
   "cell_type": "code",
   "execution_count": null,
   "metadata": {},
   "outputs": [],
   "source": []
  }
 ],
 "metadata": {
  "kernelspec": {
   "display_name": "Python 3 (ipykernel)",
   "language": "python",
   "name": "python3"
  },
  "language_info": {
   "codemirror_mode": {
    "name": "ipython",
    "version": 3
   },
   "file_extension": ".py",
   "mimetype": "text/x-python",
   "name": "python",
   "nbconvert_exporter": "python",
   "pygments_lexer": "ipython3",
   "version": "3.11.3"
  }
 },
 "nbformat": 4,
 "nbformat_minor": 4
}
