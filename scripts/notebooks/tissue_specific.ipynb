{
 "cells": [
  {
   "cell_type": "code",
   "execution_count": 1,
   "metadata": {},
   "outputs": [
    {
     "name": "stderr",
     "output_type": "stream",
     "text": [
      "2024-01-26 07:50:05.015 WARNING streamlit.runtime.caching.cache_data_api: No runtime found, using MemoryCacheStorageManager\n",
      "2024-01-26 07:50:05.018 WARNING streamlit.runtime.caching.cache_data_api: No runtime found, using MemoryCacheStorageManager\n",
      "2024-01-26 07:50:05.020 WARNING streamlit.runtime.caching.cache_data_api: No runtime found, using MemoryCacheStorageManager\n",
      "2024-01-26 07:50:05.021 WARNING streamlit.runtime.caching.cache_data_api: No runtime found, using MemoryCacheStorageManager\n",
      "2024-01-26 07:50:05.023 WARNING streamlit.runtime.caching.cache_data_api: No runtime found, using MemoryCacheStorageManager\n",
      "2024-01-26 07:50:05.024 WARNING streamlit.runtime.caching.cache_data_api: No runtime found, using MemoryCacheStorageManager\n",
      "2024-01-26 07:50:05.024 WARNING streamlit.runtime.caching.cache_data_api: No runtime found, using MemoryCacheStorageManager\n",
      "2024-01-26 07:50:05.025 WARNING streamlit.runtime.caching.cache_data_api: No runtime found, using MemoryCacheStorageManager\n",
      "2024-01-26 07:50:05.027 WARNING streamlit.runtime.caching.cache_data_api: No runtime found, using MemoryCacheStorageManager\n",
      "2024-01-26 07:50:05.028 WARNING streamlit.runtime.caching.cache_data_api: No runtime found, using MemoryCacheStorageManager\n",
      "2024-01-26 07:50:05.029 WARNING streamlit.runtime.caching.cache_data_api: No runtime found, using MemoryCacheStorageManager\n"
     ]
    }
   ],
   "source": [
    "import numpy as np\n",
    "import pandas as pd\n",
    "import seaborn as sns\n",
    "\n",
    "from pathlib import Path\n",
    "\n",
    "from dashboard import data_load"
   ]
  },
  {
   "cell_type": "code",
   "execution_count": 2,
   "metadata": {},
   "outputs": [
    {
     "name": "stderr",
     "output_type": "stream",
     "text": [
      "2024-01-26 07:50:05.194 \n",
      "  \u001b[33m\u001b[1mWarning:\u001b[0m to view this Streamlit app on a browser, run it with the following\n",
      "  command:\n",
      "\n",
      "    streamlit run /home/ubuntu/miniconda3/envs/veliadash_updated/lib/python3.11/site-packages/ipykernel_launcher.py [ARGUMENTS]\n",
      "2024-01-26 07:50:05.196 No runtime found, using MemoryCacheStorageManager\n"
     ]
    }
   ],
   "source": [
    "xena_tau_df, xena_vtx_sum_df, xena_vtx_exp_df = data_load.load_xena_heatmap_data()\n",
    "\n",
    "non_vtx_cols = [x for x in list(xena_vtx_exp_df.columns) if x[0:3] != 'VTX']\n",
    "vtx_cols = [x for x in list(xena_vtx_exp_df.columns) if x[0:3] == 'VTX']\n",
    "\n",
    "index_cols = xena_vtx_exp_df[non_vtx_cols].T.drop_duplicates().T\n",
    "data_cols = xena_vtx_exp_df[vtx_cols]\n",
    "\n",
    "xena_vtx_exp_df = index_cols.merge(data_cols, left_index=True, right_index=True)\n"
   ]
  },
  {
   "cell_type": "code",
   "execution_count": 3,
   "metadata": {},
   "outputs": [],
   "source": [
    "expr_df = xena_tau_df[[c for c in xena_tau_df.columns if c not in ['tau']]]\n",
    "expr_vtx = expr_df[expr_df > .1].dropna(how='any').index\n",
    "\n",
    "subset_df = xena_tau_df[xena_tau_df['tau'] > .85]\n",
    "#subset_df = subset_df.reindex(index=expr_vtx)"
   ]
  },
  {
   "cell_type": "code",
   "execution_count": 4,
   "metadata": {},
   "outputs": [],
   "source": [
    "subset_df = subset_df.groupby(level=0).first()"
   ]
  },
  {
   "cell_type": "code",
   "execution_count": 5,
   "metadata": {},
   "outputs": [],
   "source": [
    "expr_df = xena_tau_df[[c for c in xena_tau_df.columns if c not in ['tau']]]\n",
    "expr_vtx = expr_df[expr_df > .1].dropna(how='any').index\n",
    "\n",
    "subset_df = xena_tau_df[xena_tau_df['tau'] > .85]\n",
    "subset_df = subset_df.groupby(level=0).first()\n",
    "subset_df = subset_df.reindex(index=expr_vtx)\n",
    "\n",
    "top_tissues = []\n",
    "\n",
    "for i, row in subset_df.iterrows():\n",
    "    row.drop('tau', inplace=True)\n",
    "    tissues = list(row[row > np.percentile(row, 99)].index.values)\n",
    "    top_tissues.append(tissues)\n",
    "\n",
    "subset_df['tissues'] = top_tissues\n"
   ]
  },
  {
   "cell_type": "code",
   "execution_count": null,
   "metadata": {},
   "outputs": [],
   "source": []
  },
  {
   "cell_type": "code",
   "execution_count": 6,
   "metadata": {},
   "outputs": [],
   "source": [
    "\n",
    "def search_in_list(target_text, list_column):\n",
    "    return target_text in list_column\n",
    "\n",
    "search_term = 'Uterus-GTEX'  # The text you're searching for\n",
    "plot_df = subset_df[subset_df['tissues'].apply(lambda x: search_in_list(search_term, x))].copy()"
   ]
  },
  {
   "cell_type": "code",
   "execution_count": 7,
   "metadata": {},
   "outputs": [
    {
     "data": {
      "text/plain": [
       "(0, 63)"
      ]
     },
     "execution_count": 7,
     "metadata": {},
     "output_type": "execute_result"
    }
   ],
   "source": [
    "plot_df.drop(columns=['tau', 'tissues'], inplace=True)\n",
    "plot_df.shape"
   ]
  },
  {
   "cell_type": "code",
   "execution_count": 8,
   "metadata": {},
   "outputs": [
    {
     "data": {
      "text/plain": [
       "15.499535600852585"
      ]
     },
     "execution_count": 8,
     "metadata": {},
     "output_type": "execute_result"
    }
   ],
   "source": [
    "xena_tau_df.describe().loc['max'].max()"
   ]
  },
  {
   "cell_type": "code",
   "execution_count": null,
   "metadata": {},
   "outputs": [],
   "source": []
  },
  {
   "cell_type": "code",
   "execution_count": 127,
   "metadata": {},
   "outputs": [],
   "source": []
  },
  {
   "cell_type": "code",
   "execution_count": 129,
   "metadata": {},
   "outputs": [],
   "source": []
  },
  {
   "cell_type": "code",
   "execution_count": null,
   "metadata": {},
   "outputs": [],
   "source": []
  }
 ],
 "metadata": {
  "kernelspec": {
   "display_name": "veliadash_updated",
   "language": "python",
   "name": "python3"
  },
  "language_info": {
   "codemirror_mode": {
    "name": "ipython",
    "version": 3
   },
   "file_extension": ".py",
   "mimetype": "text/x-python",
   "name": "python",
   "nbconvert_exporter": "python",
   "pygments_lexer": "ipython3",
   "version": "3.11.3"
  }
 },
 "nbformat": 4,
 "nbformat_minor": 2
}
