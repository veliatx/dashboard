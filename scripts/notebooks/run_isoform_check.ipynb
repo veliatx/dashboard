{
 "cells": [
  {
   "cell_type": "code",
   "execution_count": 2,
   "metadata": {},
   "outputs": [
    {
     "name": "stderr",
     "output_type": "stream",
     "text": [
      "2024-04-12 05:35:38.636 WARNING streamlit.runtime.caching.cache_data_api: No runtime found, using MemoryCacheStorageManager\n",
      "2024-04-12 05:35:38.637 WARNING streamlit.runtime.caching.cache_data_api: No runtime found, using MemoryCacheStorageManager\n",
      "2024-04-12 05:35:38.638 WARNING streamlit.runtime.caching.cache_data_api: No runtime found, using MemoryCacheStorageManager\n",
      "2024-04-12 05:35:38.639 WARNING streamlit.runtime.caching.cache_data_api: No runtime found, using MemoryCacheStorageManager\n",
      "2024-04-12 05:35:38.640 WARNING streamlit.runtime.caching.cache_data_api: No runtime found, using MemoryCacheStorageManager\n",
      "2024-04-12 05:35:38.641 WARNING streamlit.runtime.caching.cache_data_api: No runtime found, using MemoryCacheStorageManager\n",
      "2024-04-12 05:35:38.641 WARNING streamlit.runtime.caching.cache_data_api: No runtime found, using MemoryCacheStorageManager\n",
      "2024-04-12 05:35:38.642 WARNING streamlit.runtime.caching.cache_data_api: No runtime found, using MemoryCacheStorageManager\n",
      "2024-04-12 05:35:38.643 WARNING streamlit.runtime.caching.cache_data_api: No runtime found, using MemoryCacheStorageManager\n",
      "2024-04-12 05:35:38.644 WARNING streamlit.runtime.caching.cache_data_api: No runtime found, using MemoryCacheStorageManager\n",
      "2024-04-12 05:35:38.644 WARNING streamlit.runtime.caching.cache_data_api: No runtime found, using MemoryCacheStorageManager\n"
     ]
    }
   ],
   "source": [
    "import re\n",
    "import numpy as np\n",
    "import pandas as pd\n",
    "import seaborn as sns\n",
    "\n",
    "from pathlib import Path\n",
    "from scipy import stats\n",
    "from veliadb import base, settings\n",
    "from veliadb import benchling_orm as bo\n",
    "from veliadb.base import (Session, Orf, OrfXref, Transcript, Gene, \n",
    "                          TranscriptOrf, SequenceRegionXref, Protein, \n",
    "                          ProteinXref, Dataset)\n",
    "\n",
    "from sqlalchemy.sql.expression import func, and_, or_\n",
    "\n",
    "from dashboard import data_load, plotting\n",
    "import pyarrow.parquet as pq\n",
    "from dashboard.etl import CACHE_DIR, TPM_DESEQ2_FACTOR, DATA_DIR\n",
    "\n",
    "pd.options.display.max_columns = 50\n",
    "pd.options.display.max_colwidth = 100"
   ]
  },
  {
   "cell_type": "code",
   "execution_count": 3,
   "metadata": {},
   "outputs": [
    {
     "name": "stderr",
     "output_type": "stream",
     "text": [
      "2024-04-12 05:35:39.659 \n",
      "  \u001b[33m\u001b[1mWarning:\u001b[0m to view this Streamlit app on a browser, run it with the following\n",
      "  command:\n",
      "\n",
      "    streamlit run /home/ubuntu/miniconda3/envs/veliadash_updated/lib/python3.11/site-packages/ipykernel_launcher.py [ARGUMENTS]\n",
      "2024-04-12 05:35:39.660 No runtime found, using MemoryCacheStorageManager\n"
     ]
    }
   ],
   "source": [
    "protein_features_df = data_load.load_protein_feature_string_representations()\n"
   ]
  },
  {
   "cell_type": "code",
   "execution_count": 4,
   "metadata": {},
   "outputs": [],
   "source": [
    "f  = protein_features_df['VTX-0860441']"
   ]
  },
  {
   "cell_type": "code",
   "execution_count": 5,
   "metadata": {},
   "outputs": [],
   "source": [
    "imdf = plotting.format_protein_feature_strings_for_altair_heatmap(f)\n"
   ]
  },
  {
   "cell_type": "code",
   "execution_count": 6,
   "metadata": {},
   "outputs": [],
   "source": [
    "x = f.Sequence"
   ]
  },
  {
   "cell_type": "code",
   "execution_count": 16,
   "metadata": {},
   "outputs": [],
   "source": [
    "def label_subseq(seq, subseq, label):\n",
    "    len_seq = len(seq)\n",
    "    len_subseq = len(subseq)\n",
    "    labels = ['O'] * len_seq\n",
    "    \n",
    "    for start in range(len_seq - len_subseq + 1):\n",
    "        if seq[start:start + len_subseq] == subseq:\n",
    "            for i in range(start, start + len_subseq):\n",
    "                labels[i] = label\n",
    "\n",
    "    labeled_string = ''.join(labels)\n",
    "    return labeled_string\n"
   ]
  },
  {
   "cell_type": "code",
   "execution_count": 17,
   "metadata": {},
   "outputs": [
    {
     "data": {
      "text/plain": [
       "'MPVWWRRRRLRARSWALRGARKPLR'"
      ]
     },
     "execution_count": 17,
     "metadata": {},
     "output_type": "execute_result"
    }
   ],
   "source": [
    "f.Sequence"
   ]
  },
  {
   "cell_type": "code",
   "execution_count": 18,
   "metadata": {},
   "outputs": [
    {
     "data": {
      "text/plain": [
       "'ODDOOOOOOOOOOOOOOOOOOOOOO'"
      ]
     },
     "execution_count": 18,
     "metadata": {},
     "output_type": "execute_result"
    }
   ],
   "source": [
    "label_subseq(f.Sequence, 'PV')"
   ]
  },
  {
   "cell_type": "code",
   "execution_count": 8,
   "metadata": {},
   "outputs": [
    {
     "data": {
      "text/plain": [
       "Deepsig                 CCCCCCCCCCCCCCCCCCCCCCCCC\n",
       "SignalP 6slow           CCCCCCCCCCCCCCCCCCCCCCCCC\n",
       "SignalP 5b              CCCCCCCCCCCCCCCCCCCCCCCCC\n",
       "SignalP 4.1             CCCCCCCCCCCCCCCCCCCCCCCCC\n",
       "Phobius                 IIIIIIIIIIIIIIIIIIIIIIIII\n",
       "DeepTMHMM               IIIIIIIIIIIIIIIIIIIIIIIII\n",
       "Sequence                MPVWWRRRRLRARSWALRGARKPLR\n",
       "nonsignal_seqs                                NaN\n",
       "DeepTMHMM_prediction                        False\n",
       "DeepTMHMM_length                                0\n",
       "Name: VTX-0860441, dtype: object"
      ]
     },
     "execution_count": 8,
     "metadata": {},
     "output_type": "execute_result"
    }
   ],
   "source": [
    "f"
   ]
  },
  {
   "cell_type": "code",
   "execution_count": 1,
   "metadata": {},
   "outputs": [
    {
     "ename": "NameError",
     "evalue": "name 'f' is not defined",
     "output_type": "error",
     "traceback": [
      "\u001b[0;31m---------------------------------------------------------------------------\u001b[0m",
      "\u001b[0;31mNameError\u001b[0m                                 Traceback (most recent call last)",
      "Cell \u001b[0;32mIn[1], line 1\u001b[0m\n\u001b[0;32m----> 1\u001b[0m \u001b[43mf\u001b[49m\n",
      "\u001b[0;31mNameError\u001b[0m: name 'f' is not defined"
     ]
    }
   ],
   "source": [
    "f"
   ]
  },
  {
   "cell_type": "code",
   "execution_count": 8,
   "metadata": {},
   "outputs": [
    {
     "data": {
      "text/html": [
       "<div>\n",
       "<style scoped>\n",
       "    .dataframe tbody tr th:only-of-type {\n",
       "        vertical-align: middle;\n",
       "    }\n",
       "\n",
       "    .dataframe tbody tr th {\n",
       "        vertical-align: top;\n",
       "    }\n",
       "\n",
       "    .dataframe thead th {\n",
       "        text-align: right;\n",
       "    }\n",
       "</style>\n",
       "<table border=\"1\" class=\"dataframe\">\n",
       "  <thead>\n",
       "    <tr style=\"text-align: right;\">\n",
       "      <th></th>\n",
       "      <th>Position</th>\n",
       "      <th>Tool</th>\n",
       "      <th>Predicted Class</th>\n",
       "      <th>aa</th>\n",
       "    </tr>\n",
       "  </thead>\n",
       "  <tbody>\n",
       "    <tr>\n",
       "      <th>0</th>\n",
       "      <td>1</td>\n",
       "      <td>Deepsig</td>\n",
       "      <td>C</td>\n",
       "      <td>M</td>\n",
       "    </tr>\n",
       "    <tr>\n",
       "      <th>1</th>\n",
       "      <td>2</td>\n",
       "      <td>Deepsig</td>\n",
       "      <td>C</td>\n",
       "      <td>P</td>\n",
       "    </tr>\n",
       "    <tr>\n",
       "      <th>2</th>\n",
       "      <td>3</td>\n",
       "      <td>Deepsig</td>\n",
       "      <td>C</td>\n",
       "      <td>V</td>\n",
       "    </tr>\n",
       "    <tr>\n",
       "      <th>3</th>\n",
       "      <td>4</td>\n",
       "      <td>Deepsig</td>\n",
       "      <td>C</td>\n",
       "      <td>W</td>\n",
       "    </tr>\n",
       "    <tr>\n",
       "      <th>4</th>\n",
       "      <td>5</td>\n",
       "      <td>Deepsig</td>\n",
       "      <td>C</td>\n",
       "      <td>W</td>\n",
       "    </tr>\n",
       "    <tr>\n",
       "      <th>...</th>\n",
       "      <td>...</td>\n",
       "      <td>...</td>\n",
       "      <td>...</td>\n",
       "      <td>...</td>\n",
       "    </tr>\n",
       "    <tr>\n",
       "      <th>145</th>\n",
       "      <td>21</td>\n",
       "      <td>DeepTMHMM</td>\n",
       "      <td>I</td>\n",
       "      <td>R</td>\n",
       "    </tr>\n",
       "    <tr>\n",
       "      <th>146</th>\n",
       "      <td>22</td>\n",
       "      <td>DeepTMHMM</td>\n",
       "      <td>I</td>\n",
       "      <td>K</td>\n",
       "    </tr>\n",
       "    <tr>\n",
       "      <th>147</th>\n",
       "      <td>23</td>\n",
       "      <td>DeepTMHMM</td>\n",
       "      <td>I</td>\n",
       "      <td>P</td>\n",
       "    </tr>\n",
       "    <tr>\n",
       "      <th>148</th>\n",
       "      <td>24</td>\n",
       "      <td>DeepTMHMM</td>\n",
       "      <td>I</td>\n",
       "      <td>L</td>\n",
       "    </tr>\n",
       "    <tr>\n",
       "      <th>149</th>\n",
       "      <td>25</td>\n",
       "      <td>DeepTMHMM</td>\n",
       "      <td>I</td>\n",
       "      <td>R</td>\n",
       "    </tr>\n",
       "  </tbody>\n",
       "</table>\n",
       "<p>150 rows × 4 columns</p>\n",
       "</div>"
      ],
      "text/plain": [
       "     Position       Tool Predicted Class aa\n",
       "0           1    Deepsig               C  M\n",
       "1           2    Deepsig               C  P\n",
       "2           3    Deepsig               C  V\n",
       "3           4    Deepsig               C  W\n",
       "4           5    Deepsig               C  W\n",
       "..        ...        ...             ... ..\n",
       "145        21  DeepTMHMM               I  R\n",
       "146        22  DeepTMHMM               I  K\n",
       "147        23  DeepTMHMM               I  P\n",
       "148        24  DeepTMHMM               I  L\n",
       "149        25  DeepTMHMM               I  R\n",
       "\n",
       "[150 rows x 4 columns]"
      ]
     },
     "execution_count": 8,
     "metadata": {},
     "output_type": "execute_result"
    }
   ],
   "source": [
    "imdf"
   ]
  },
  {
   "cell_type": "code",
   "execution_count": null,
   "metadata": {},
   "outputs": [],
   "source": []
  },
  {
   "cell_type": "code",
   "execution_count": 2,
   "metadata": {},
   "outputs": [],
   "source": [
    "session = base.Session()"
   ]
  },
  {
   "cell_type": "code",
   "execution_count": 8,
   "metadata": {},
   "outputs": [],
   "source": [
    "df = pd.read_parquet(CACHE_DIR.joinpath('sorf_df.parq'))"
   ]
  },
  {
   "cell_type": "code",
   "execution_count": 9,
   "metadata": {},
   "outputs": [
    {
     "data": {
      "text/plain": [
       "(11841, 61)"
      ]
     },
     "execution_count": 9,
     "metadata": {},
     "output_type": "execute_result"
    }
   ],
   "source": [
    "df['Ribo-Seq sORF'] = (\n",
    "        (df['source'].apply(lambda x: 'gencode_riboseq' in x)) | \\\n",
    "        (df['source'].apply(lambda x: 'velia_phase1_Bona fide' in x)) | \\\n",
    "        (df['source'].apply(lambda x: 'velia_phase1_Chen' in x)) | \\\n",
    "        (df['source'].apply(lambda x: 'velia_phase1_Prensner' in x)) | \\\n",
    "        (df['source'].apply(lambda x: 'velia_phase2_Chang_Saghatelian' in x)) | \\\n",
    "        (df['source'].apply(lambda x: 'velia_phase2_Chothani2022_SignalP' in x)) | \\\n",
    "        (df['source'].apply(lambda x: 'velia_phase2_Bianca_Chen' in x)) | \\\n",
    "        (df['source'].apply(lambda x: 'velia_phase2_Bonafide_Bianca' in x)) | \\\n",
    "        (df['source'].apply(lambda x: 'velia_phase2_Cao_Slavoff_MINAS60' in x)) | \\\n",
    "        (df['source'].apply(lambda x: 'velia_phase2_Rat_Cardiac_Huang' in x)) | \\\n",
    "        (df['source'].apply(lambda x: 'velia_phase2_Mudge2022_SignalP' in x)) | \\\n",
    "        (df['source'].apply(lambda x: 'velia_phase5_Blume_Mudge' in x)) | \\\n",
    "        (df['source'].apply(lambda x: 'velia_phase5_bona fide' in x)) | \\\n",
    "        (df['source'].apply(lambda x: 'velia_phase6_plasma_mass_spec' in x)) | \\\n",
    "        (df['source'].apply(lambda x: 'velia_phase6_public_mass_spec' in x)) | \\\n",
    "        (df['source'].apply(lambda x: 'velia_phase7_Ribo-seq_PBMC_LPS_R848' in x)) | \\\n",
    "        (df['source'].apply(lambda x: 'velia_phase9_orfrater' in x)) | \\\n",
    "        (df['source'].apply(lambda x: 'velia_phase9_Olsen' in x)) | \\\n",
    "        (df['source'].apply(lambda x: 'velia_phase7_Ribo-seq_PBMC_LPS_R848' in x)) | \\\n",
    "        (df['source'].apply(lambda x: 'velia_phase10_riboseq_230114' in x)) | \\\n",
    "        (df['source'].apply(lambda x: 'velia_phase11_riboseq_240214' in x)) | \\\n",
    "        (df['screening_phase'] == 'Not Screened') |\n",
    "        (df['orf_xrefs'].astype(str).str.contains('RibORF')))\n",
    "\n",
    "df[df['Ribo-Seq sORF']].shape"
   ]
  },
  {
   "cell_type": "code",
   "execution_count": 10,
   "metadata": {},
   "outputs": [
    {
     "data": {
      "text/plain": [
       "{'ENSEMBL',\n",
       " 'RefSeq',\n",
       " 'gencode_riboseq',\n",
       " 'openprot',\n",
       " 'velia_phase10_riboseq_230114',\n",
       " 'velia_phase11_riboseq_240214',\n",
       " 'velia_phase1_Bona fide',\n",
       " 'velia_phase1_Chen',\n",
       " 'velia_phase1_Prensner',\n",
       " 'velia_phase1_secreted_smORFs',\n",
       " 'velia_phase2_Bianca_Chen',\n",
       " 'velia_phase2_Bonafide_Bianca',\n",
       " 'velia_phase2_Cao_Slavoff_MINAS60',\n",
       " 'velia_phase2_Chang_Saghatelian',\n",
       " 'velia_phase2_Chothani2022_SignalP',\n",
       " 'velia_phase2_Mudge2022_SignalP',\n",
       " 'velia_phase2_Rat_Cardiac_Huang',\n",
       " 'velia_phase2_Seung',\n",
       " 'velia_phase2_lncRNA_Jen',\n",
       " 'velia_phase3_nan',\n",
       " 'velia_phase4_nan',\n",
       " 'velia_phase5_Blume_Mudge',\n",
       " 'velia_phase5_autoimmune lncRNA',\n",
       " 'velia_phase5_bona fide',\n",
       " 'velia_phase5_uniprot-tremble',\n",
       " 'velia_phase6_autoimmune_gwas',\n",
       " 'velia_phase6_plasma_mass_spec',\n",
       " 'velia_phase6_public_mass_spec',\n",
       " 'velia_phase6_viral_sORF',\n",
       " 'velia_phase7_Ribo-seq_PBMC_LPS_R848',\n",
       " 'velia_phase7_tcga-DE_conserved_signalp+',\n",
       " 'velia_phase9_Li et al VSMC',\n",
       " 'velia_phase9_Olsen',\n",
       " 'velia_phase9_orfrater',\n",
       " 'velia_phase9_tcgaDE_esmPhylocsf'}"
      ]
     },
     "execution_count": 10,
     "metadata": {},
     "output_type": "execute_result"
    }
   ],
   "source": [
    "set([item for sublist in df['source'].values for item in sublist])"
   ]
  },
  {
   "cell_type": "code",
   "execution_count": null,
   "metadata": {},
   "outputs": [],
   "source": []
  },
  {
   "cell_type": "code",
   "execution_count": 11,
   "metadata": {},
   "outputs": [
    {
     "name": "stderr",
     "output_type": "stream",
     "text": [
      "2024-03-18 18:18:57.749 \n",
      "  \u001b[33m\u001b[1mWarning:\u001b[0m to view this Streamlit app on a browser, run it with the following\n",
      "  command:\n",
      "\n",
      "    streamlit run /home/ubuntu/miniconda3/envs/veliadash_updated/lib/python3.11/site-packages/ipykernel_launcher.py [ARGUMENTS]\n",
      "2024-03-18 18:18:57.749 No runtime found, using MemoryCacheStorageManager\n",
      "/home/ubuntu/dashboard/dashboard/data_load.py:124: DtypeWarning: Columns (12) have mixed types. Specify dtype option on import or set low_memory=False.\n",
      "  sorf_gwas_df = pd.read_csv(DATA_DIR.joinpath('embl_nhgri_gwas_v1.0.2.dashboard_sorfs.tsv'), sep='\\t')\n"
     ]
    }
   ],
   "source": [
    "sorf_df = data_load.load_sorf_df_conformed()"
   ]
  },
  {
   "cell_type": "code",
   "execution_count": 12,
   "metadata": {},
   "outputs": [],
   "source": [
    "vtx_fasta = Path('/home/ubuntu/repos/dashboard/cache/protein_data/protein_tools_input.fasta')"
   ]
  },
  {
   "cell_type": "code",
   "execution_count": 13,
   "metadata": {},
   "outputs": [
    {
     "name": "stdout",
     "output_type": "stream",
     "text": [
      "cp: cannot stat '/home/ubuntu/repos/dashboard/cache/protein_data/protein_tools_input.fasta': No such file or directory\n"
     ]
    }
   ],
   "source": [
    "!cp $vtx_fasta isoform_data"
   ]
  },
  {
   "cell_type": "code",
   "execution_count": 19,
   "metadata": {},
   "outputs": [],
   "source": [
    "with open('isoform_data/sorf_aa.fa', 'w') as outfile:\n",
    "    for i, row in sorf_df.iterrows():\n",
    "        outfile.write(f'>{row.vtx_id}\\n{row.aa}\\n')"
   ]
  },
  {
   "cell_type": "code",
   "execution_count": 18,
   "metadata": {},
   "outputs": [
    {
     "data": {
      "text/plain": [
       "'VTX-0851967'"
      ]
     },
     "execution_count": 18,
     "metadata": {},
     "output_type": "execute_result"
    }
   ],
   "source": [
    "row.vtx_id"
   ]
  },
  {
   "cell_type": "markdown",
   "metadata": {},
   "source": [
    "### Swissprot"
   ]
  },
  {
   "cell_type": "code",
   "execution_count": 5,
   "metadata": {},
   "outputs": [],
   "source": [
    "swissprot_query = \\\n",
    "    session.query(Protein)\\\n",
    "           .join(ProteinXref, ProteinXref.protein_id == Protein.id)\\\n",
    "           .join(Dataset, Dataset.id == ProteinXref.xref_dataset_id)\\\n",
    "           .filter(Dataset.name == 'swissprot')\\\n",
    "           .distinct(ProteinXref.protein_id)\n",
    "\n",
    "fasta_file = Path('isoform_data/swissprot_proteins.fa')\n",
    "\n",
    "with open(fasta_file, 'w') as outfile:\n",
    "    for protein in swissprot_query.all():\n",
    "        outfile.write(f'>{protein.uniprot_id}\\n{protein.aa_seq}\\n')\n",
    "        \n",
    "query_db = f'/root/{vtx_fasta.name}'\n",
    "target_db = f'/root/{fasta_file.name}'\n",
    "output_file = f'/root/{vtx_fasta.stem}_{fasta_file.stem}_alignments.m8'\n",
    "options = '--format-output query,target,evalue,qstart,qend,qlen,qcov,gapopen,pident,fident,alnlen,raw,bits'\n",
    "\n",
    "base_cmd = \"docker run --rm -it -v ${PWD}/isoform_data:/root soedinglab/mmseqs2 mmseqs easy-search\" \n",
    "full_cmd = f'{base_cmd} {options} {query_db} {target_db} {output_file} /root/tmp'"
   ]
  },
  {
   "cell_type": "code",
   "execution_count": 6,
   "metadata": {},
   "outputs": [],
   "source": [
    "#!$full_cmd &>/dev/null"
   ]
  },
  {
   "cell_type": "code",
   "execution_count": 7,
   "metadata": {},
   "outputs": [
    {
     "data": {
      "text/plain": [
       "(1165, 12)"
      ]
     },
     "execution_count": 7,
     "metadata": {},
     "output_type": "execute_result"
    }
   ],
   "source": [
    "isoform_df = pd.read_csv(f'isoform_data/{vtx_fasta.stem}_{fasta_file.stem}_alignments.m8', sep='\\t', names=options.split()[1].split(','))\n",
    "isoform_df = isoform_df[(isoform_df['pident'] == 100.0)]\n",
    "isoform_df.drop_duplicates(inplace=True)\n",
    "swissprot_isoform_df = isoform_df.groupby('query').aggregate(list)\n",
    "swissprot_isoform_df.rename(columns={'target': 'swissprot_isoform'}, inplace=True)\n",
    "swissprot_isoform_df.shape"
   ]
  },
  {
   "cell_type": "code",
   "execution_count": 1,
   "metadata": {},
   "outputs": [
    {
     "ename": "NameError",
     "evalue": "name 'swissprot_isoform_df' is not defined",
     "output_type": "error",
     "traceback": [
      "\u001b[0;31m---------------------------------------------------------------------------\u001b[0m",
      "\u001b[0;31mNameError\u001b[0m                                 Traceback (most recent call last)",
      "Cell \u001b[0;32mIn[1], line 1\u001b[0m\n\u001b[0;32m----> 1\u001b[0m \u001b[43mswissprot_isoform_df\u001b[49m\n",
      "\u001b[0;31mNameError\u001b[0m: name 'swissprot_isoform_df' is not defined"
     ]
    }
   ],
   "source": [
    "swissprot_isoform_df"
   ]
  },
  {
   "cell_type": "markdown",
   "metadata": {},
   "source": [
    "### Ensembl"
   ]
  },
  {
   "cell_type": "code",
   "execution_count": 12,
   "metadata": {},
   "outputs": [],
   "source": [
    "fasta_file = Path('isoform_data/ensembl_proteins.fa')\n",
    "\n",
    "with open(fasta_file, 'w') as outfile:\n",
    "    for protein in session.query(Protein).filter(Protein.ensembl_protein_id.ilike('ENSP%')).all():\n",
    "        outfile.write(f'>{protein.ensembl_protein_id}\\n{protein.aa_seq}\\n')\n",
    "        \n",
    "query_db = f'/root/{vtx_fasta.name}'\n",
    "target_db = f'/root/{fasta_file.name}'\n",
    "output_file = f'/root/{vtx_fasta.stem}_{fasta_file.stem}_alignments.m8'\n",
    "options = '--format-output query,target,evalue,qstart,qend,qlen,qcov,gapopen,pident,fident,alnlen,raw,bits'\n",
    "\n",
    "base_cmd = \"docker run --rm -it -v ${PWD}/isoform_data:/root soedinglab/mmseqs2 mmseqs easy-search\" \n",
    "full_cmd = f'{base_cmd} {options} {query_db} {target_db} {output_file} /root/tmp'"
   ]
  },
  {
   "cell_type": "code",
   "execution_count": 13,
   "metadata": {},
   "outputs": [],
   "source": [
    "#!$full_cmd &>/dev/null"
   ]
  },
  {
   "cell_type": "code",
   "execution_count": 14,
   "metadata": {},
   "outputs": [
    {
     "data": {
      "text/plain": [
       "(1006, 12)"
      ]
     },
     "execution_count": 14,
     "metadata": {},
     "output_type": "execute_result"
    }
   ],
   "source": [
    "isoform_df = pd.read_csv(f'isoform_data/{vtx_fasta.stem}_{fasta_file.stem}_alignments.m8', sep='\\t', names=options.split()[1].split(','))\n",
    "isoform_df = isoform_df[(isoform_df['pident'] == 100.0)]\n",
    "isoform_df.drop_duplicates(inplace=True)\n",
    "ensembl_isoform_df = isoform_df.groupby('query').aggregate(list)\n",
    "ensembl_isoform_df.rename(columns={'target': 'ensembl_isoform'}, inplace=True)\n",
    "ensembl_isoform_df.shape"
   ]
  },
  {
   "cell_type": "markdown",
   "metadata": {},
   "source": [
    "### Refseq"
   ]
  },
  {
   "cell_type": "code",
   "execution_count": 15,
   "metadata": {},
   "outputs": [],
   "source": [
    "fasta_file = Path('/home/ubuntu/repos/dashboard/dashboard/etl/isoform_data/GRCh38_latest_protein.faa')\n",
    "\n",
    "query_db = f'/root/{vtx_fasta.name}'\n",
    "target_db = f'/root/{fasta_file.name}'\n",
    "output_file = f'/root/{vtx_fasta.stem}_{fasta_file.stem}_alignments.m8'\n",
    "options = '--format-output query,target,evalue,qstart,qend,qlen,qcov,gapopen,pident,fident,alnlen,raw,bits'\n",
    "\n",
    "base_cmd = \"docker run --rm -it -v ${PWD}/isoform_data:/root soedinglab/mmseqs2 mmseqs easy-search\" \n",
    "full_cmd = f'{base_cmd} {options} {query_db} {target_db} {output_file} /root/tmp'"
   ]
  },
  {
   "cell_type": "code",
   "execution_count": 16,
   "metadata": {},
   "outputs": [],
   "source": [
    "#!$full_cmd &>/dev/null"
   ]
  },
  {
   "cell_type": "code",
   "execution_count": 17,
   "metadata": {},
   "outputs": [
    {
     "data": {
      "text/plain": [
       "(944, 12)"
      ]
     },
     "execution_count": 17,
     "metadata": {},
     "output_type": "execute_result"
    }
   ],
   "source": [
    "isoform_df = pd.read_csv(f'isoform_data/{vtx_fasta.stem}_{fasta_file.stem}_alignments.m8', sep='\\t', names=options.split()[1].split(','))\n",
    "isoform_df = isoform_df[(isoform_df['pident'] == 100.0)]\n",
    "isoform_df.drop_duplicates(inplace=True)\n",
    "refseq_isoform_df = isoform_df.groupby('query').aggregate(list)\n",
    "refseq_isoform_df.rename(columns={'target': 'refseq_isoform'}, inplace=True)\n",
    "refseq_isoform_df.shape"
   ]
  },
  {
   "cell_type": "code",
   "execution_count": 18,
   "metadata": {},
   "outputs": [],
   "source": [
    "sorf_df.drop(columns=['swissprot_isoform', \n",
    "                      'ensembl_isoform', \n",
    "                      'refseq_isoform'], inplace=True)"
   ]
  },
  {
   "cell_type": "code",
   "execution_count": 30,
   "metadata": {},
   "outputs": [],
   "source": [
    "swissprot_isoform_df.to_csv('../../cache/protein_data/swissprot_isoform.csv')\n",
    "ensembl_isoform_df.to_csv('../../cache/protein_data/ensembl_isoform.csv')\n",
    "refseq_isoform_df.to_csv('../../cache/protein_data/refseq_isoform.csv')"
   ]
  },
  {
   "cell_type": "code",
   "execution_count": 19,
   "metadata": {},
   "outputs": [],
   "source": [
    "output_df = sorf_df.merge(swissprot_isoform_df[['swissprot_isoform']], how='left', left_index=True, right_index=True)\n",
    "output_df = output_df.merge(ensembl_isoform_df[['ensembl_isoform']], how='left', left_index=True, right_index=True)\n",
    "output_df = output_df.merge(refseq_isoform_df[['refseq_isoform']], how='left', left_index=True, right_index=True)\n",
    "\n",
    "output_df.replace(pd.NA, '', inplace=True)"
   ]
  },
  {
   "cell_type": "markdown",
   "metadata": {},
   "source": [
    "### BLASTp"
   ]
  },
  {
   "cell_type": "code",
   "execution_count": 15,
   "metadata": {},
   "outputs": [],
   "source": [
    "data_path = Path('isoform_data').absolute()\n",
    "blast_db_path = Path('/efs/databases/blast')\n",
    "blast_db = '-db mouse.protein.genbank.faa'\n",
    "output_fmt = '6 qaccver saccver stitle bitscore qcovs length pident gaps evalue'\n",
    "options = f'-outfmt \"{output_fmt}\" -num_threads 8'\n",
    "query = f'-query /blast/data/{vtx_fasta.name}'\n",
    "output = f'-out /blast/data/{vtx_fasta.stem}.blastp.out'"
   ]
  },
  {
   "cell_type": "code",
   "execution_count": 16,
   "metadata": {},
   "outputs": [],
   "source": [
    "base_cmd = f'docker run --rm -it -v {blast_db_path}:/blast/blastdb -v {data_path}:/blast/data ncbi/blast'\n",
    "full_cmd = f'{base_cmd} blastp {options} {blast_db} {query} {output}'"
   ]
  },
  {
   "cell_type": "code",
   "execution_count": 17,
   "metadata": {},
   "outputs": [],
   "source": [
    "!$full_cmd"
   ]
  },
  {
   "cell_type": "code",
   "execution_count": 18,
   "metadata": {},
   "outputs": [],
   "source": [
    "header = ['vtx_id', 'blastp_hit_id', 'blastp_description', 'blastp_score',\n",
    "          'blastp_query_coverage', 'blastp_align_length', 'blastp_align_identity', \n",
    "          'blastp_gaps', 'blastp_evalue']\n",
    "\n",
    "blastp_df = pd.read_csv(f'isoform_data/{vtx_fasta.stem}.blastp.out', sep='\\t', names=header)\n",
    "bdf = blastp_df.sort_values(by='blastp_score', ascending=False).groupby('vtx_id').first()"
   ]
  },
  {
   "cell_type": "markdown",
   "metadata": {},
   "source": [
    "### tBLASTn"
   ]
  },
  {
   "cell_type": "code",
   "execution_count": 24,
   "metadata": {},
   "outputs": [],
   "source": [
    "data_path = Path('isoform_data').absolute()\n",
    "blast_db_path = Path('/efs/databases/blast')\n",
    "blast_db = '-db mouse.rna.fna'\n",
    "output_fmt = '6 qaccver saccver stitle score qcovs length pident gaps evalue'\n",
    "options = f'-outfmt \"{output_fmt}\" -num_threads 8'\n",
    "query = f'-query /blast/data/{vtx_fasta.name}'\n",
    "output = f'-out /blast/data/{vtx_fasta.stem}.tblastn.out'"
   ]
  },
  {
   "cell_type": "code",
   "execution_count": 25,
   "metadata": {},
   "outputs": [],
   "source": [
    "base_cmd = f'docker run --rm -it -v {blast_db_path}:/blast/blastdb -v {data_path}:/blast/data ncbi/blast'\n",
    "full_cmd = f'{base_cmd} tblastn {options} {blast_db} {query} {output}'"
   ]
  },
  {
   "cell_type": "code",
   "execution_count": 21,
   "metadata": {},
   "outputs": [
    {
     "name": "stdout",
     "output_type": "stream",
     "text": [
      "Warning: [tblastn] Query_4320 VTX-0856919: Could not calculate ungapped Karlin-Altschul parameters due to an invalid query sequence or its translation. Please verify the query sequence(s) and/or filtering options \n",
      "Warning: [tblastn] Query_5134 VTX-0850133: Could not calculate ungapped Karlin-Altschul parameters due to an invalid query sequence or its translation. Please verify the query sequence(s) and/or filtering options \n"
     ]
    }
   ],
   "source": [
    "#!$full_cmd"
   ]
  },
  {
   "cell_type": "code",
   "execution_count": 26,
   "metadata": {},
   "outputs": [],
   "source": [
    "header = ['vtx_id', 'tblastn_hit_id', 'tblastn_description', 'tblastn_score',\n",
    "          'tblastn_query_coverage', 'tblastn_align_length', 'tblastn_align_identity', \n",
    "          'tblastn_gaps', 'tblastn_evalue']\n",
    "\n",
    "tblastn_df = pd.read_csv(f'isoform_data/{vtx_fasta.stem}.tblastn.out', sep='\\t', names=header)\n",
    "tdf = tblastn_df.sort_values(by='tblastn_score', ascending=False).groupby('vtx_id').first()"
   ]
  },
  {
   "cell_type": "code",
   "execution_count": 28,
   "metadata": {},
   "outputs": [],
   "source": [
    "tdf.to_csv('../../cache/protein_data/tblastn.csv')"
   ]
  },
  {
   "cell_type": "code",
   "execution_count": 25,
   "metadata": {},
   "outputs": [
    {
     "data": {
      "text/html": [
       "<div>\n",
       "<style scoped>\n",
       "    .dataframe tbody tr th:only-of-type {\n",
       "        vertical-align: middle;\n",
       "    }\n",
       "\n",
       "    .dataframe tbody tr th {\n",
       "        vertical-align: top;\n",
       "    }\n",
       "\n",
       "    .dataframe thead th {\n",
       "        text-align: right;\n",
       "    }\n",
       "</style>\n",
       "<table border=\"1\" class=\"dataframe\">\n",
       "  <thead>\n",
       "    <tr style=\"text-align: right;\">\n",
       "      <th></th>\n",
       "      <th>swissprot_isoform</th>\n",
       "      <th>evalue</th>\n",
       "      <th>qstart</th>\n",
       "      <th>qend</th>\n",
       "      <th>qlen</th>\n",
       "      <th>qcov</th>\n",
       "      <th>gapopen</th>\n",
       "      <th>pident</th>\n",
       "      <th>fident</th>\n",
       "      <th>alnlen</th>\n",
       "      <th>raw</th>\n",
       "      <th>bits</th>\n",
       "    </tr>\n",
       "    <tr>\n",
       "      <th>query</th>\n",
       "      <th></th>\n",
       "      <th></th>\n",
       "      <th></th>\n",
       "      <th></th>\n",
       "      <th></th>\n",
       "      <th></th>\n",
       "      <th></th>\n",
       "      <th></th>\n",
       "      <th></th>\n",
       "      <th></th>\n",
       "      <th></th>\n",
       "      <th></th>\n",
       "    </tr>\n",
       "  </thead>\n",
       "  <tbody>\n",
       "    <tr>\n",
       "      <th>VTX-0001233</th>\n",
       "      <td>[Q99622]</td>\n",
       "      <td>[4.28e-75]</td>\n",
       "      <td>[1]</td>\n",
       "      <td>[126]</td>\n",
       "      <td>[126]</td>\n",
       "      <td>[1.0]</td>\n",
       "      <td>[0]</td>\n",
       "      <td>[100.0]</td>\n",
       "      <td>[1.0]</td>\n",
       "      <td>[126]</td>\n",
       "      <td>[607]</td>\n",
       "      <td>[244]</td>\n",
       "    </tr>\n",
       "    <tr>\n",
       "      <th>VTX-0002499</th>\n",
       "      <td>[Q9BYQ0]</td>\n",
       "      <td>[1.102e-108]</td>\n",
       "      <td>[1]</td>\n",
       "      <td>[159]</td>\n",
       "      <td>[159]</td>\n",
       "      <td>[1.0]</td>\n",
       "      <td>[0]</td>\n",
       "      <td>[100.0]</td>\n",
       "      <td>[1.0]</td>\n",
       "      <td>[159]</td>\n",
       "      <td>[855]</td>\n",
       "      <td>[342]</td>\n",
       "    </tr>\n",
       "    <tr>\n",
       "      <th>VTX-0006906</th>\n",
       "      <td>[Q08648, Q6PDA7]</td>\n",
       "      <td>[3.7739999999999997e-41, 3.7739999999999997e-41]</td>\n",
       "      <td>[1, 1]</td>\n",
       "      <td>[71, 71]</td>\n",
       "      <td>[82, 82]</td>\n",
       "      <td>[0.866, 0.866]</td>\n",
       "      <td>[0, 0]</td>\n",
       "      <td>[100.0, 100.0]</td>\n",
       "      <td>[1.0, 1.0]</td>\n",
       "      <td>[71, 71]</td>\n",
       "      <td>[351, 351]</td>\n",
       "      <td>[143, 143]</td>\n",
       "    </tr>\n",
       "    <tr>\n",
       "      <th>VTX-0007082</th>\n",
       "      <td>[A0A024R3A3]</td>\n",
       "      <td>[4.263e-26]</td>\n",
       "      <td>[1]</td>\n",
       "      <td>[59]</td>\n",
       "      <td>[59]</td>\n",
       "      <td>[1.0]</td>\n",
       "      <td>[0]</td>\n",
       "      <td>[100.0]</td>\n",
       "      <td>[1.0]</td>\n",
       "      <td>[59]</td>\n",
       "      <td>[239]</td>\n",
       "      <td>[99]</td>\n",
       "    </tr>\n",
       "    <tr>\n",
       "      <th>VTX-0007146</th>\n",
       "      <td>[A6NF36]</td>\n",
       "      <td>[2.555e-93]</td>\n",
       "      <td>[1]</td>\n",
       "      <td>[153]</td>\n",
       "      <td>[153]</td>\n",
       "      <td>[1.0]</td>\n",
       "      <td>[0]</td>\n",
       "      <td>[100.0]</td>\n",
       "      <td>[1.0]</td>\n",
       "      <td>[153]</td>\n",
       "      <td>[744]</td>\n",
       "      <td>[298]</td>\n",
       "    </tr>\n",
       "    <tr>\n",
       "      <th>...</th>\n",
       "      <td>...</td>\n",
       "      <td>...</td>\n",
       "      <td>...</td>\n",
       "      <td>...</td>\n",
       "      <td>...</td>\n",
       "      <td>...</td>\n",
       "      <td>...</td>\n",
       "      <td>...</td>\n",
       "      <td>...</td>\n",
       "      <td>...</td>\n",
       "      <td>...</td>\n",
       "      <td>...</td>\n",
       "    </tr>\n",
       "    <tr>\n",
       "      <th>VTX-0860402</th>\n",
       "      <td>[A5PLN9]</td>\n",
       "      <td>[1.412e-09]</td>\n",
       "      <td>[1]</td>\n",
       "      <td>[22]</td>\n",
       "      <td>[38]</td>\n",
       "      <td>[0.579]</td>\n",
       "      <td>[0]</td>\n",
       "      <td>[100.0]</td>\n",
       "      <td>[1.0]</td>\n",
       "      <td>[22]</td>\n",
       "      <td>[115]</td>\n",
       "      <td>[50]</td>\n",
       "    </tr>\n",
       "    <tr>\n",
       "      <th>VTX-0860431</th>\n",
       "      <td>[P27701]</td>\n",
       "      <td>[2.484e-11]</td>\n",
       "      <td>[1]</td>\n",
       "      <td>[26]</td>\n",
       "      <td>[46]</td>\n",
       "      <td>[0.565]</td>\n",
       "      <td>[0]</td>\n",
       "      <td>[100.0]</td>\n",
       "      <td>[1.0]</td>\n",
       "      <td>[26]</td>\n",
       "      <td>[131]</td>\n",
       "      <td>[56]</td>\n",
       "    </tr>\n",
       "    <tr>\n",
       "      <th>VTX-0860435</th>\n",
       "      <td>[Q6UWT4]</td>\n",
       "      <td>[1.735e-51]</td>\n",
       "      <td>[1]</td>\n",
       "      <td>[87]</td>\n",
       "      <td>[87]</td>\n",
       "      <td>[1.0]</td>\n",
       "      <td>[0]</td>\n",
       "      <td>[100.0]</td>\n",
       "      <td>[1.0]</td>\n",
       "      <td>[87]</td>\n",
       "      <td>[427]</td>\n",
       "      <td>[173]</td>\n",
       "    </tr>\n",
       "    <tr>\n",
       "      <th>VTX-0860437</th>\n",
       "      <td>[A0A0C5B5G6]</td>\n",
       "      <td>[2.145e-06]</td>\n",
       "      <td>[1]</td>\n",
       "      <td>[16]</td>\n",
       "      <td>[16]</td>\n",
       "      <td>[1.0]</td>\n",
       "      <td>[0]</td>\n",
       "      <td>[100.0]</td>\n",
       "      <td>[1.0]</td>\n",
       "      <td>[16]</td>\n",
       "      <td>[90]</td>\n",
       "      <td>[40]</td>\n",
       "    </tr>\n",
       "    <tr>\n",
       "      <th>VTX-0860438</th>\n",
       "      <td>[Q8IVG9]</td>\n",
       "      <td>[6.802e-11]</td>\n",
       "      <td>[1]</td>\n",
       "      <td>[24]</td>\n",
       "      <td>[24]</td>\n",
       "      <td>[1.0]</td>\n",
       "      <td>[0]</td>\n",
       "      <td>[100.0]</td>\n",
       "      <td>[1.0]</td>\n",
       "      <td>[24]</td>\n",
       "      <td>[123]</td>\n",
       "      <td>[53]</td>\n",
       "    </tr>\n",
       "  </tbody>\n",
       "</table>\n",
       "<p>1165 rows × 12 columns</p>\n",
       "</div>"
      ],
      "text/plain": [
       "            swissprot_isoform  \\\n",
       "query                           \n",
       "VTX-0001233          [Q99622]   \n",
       "VTX-0002499          [Q9BYQ0]   \n",
       "VTX-0006906  [Q08648, Q6PDA7]   \n",
       "VTX-0007082      [A0A024R3A3]   \n",
       "VTX-0007146          [A6NF36]   \n",
       "...                       ...   \n",
       "VTX-0860402          [A5PLN9]   \n",
       "VTX-0860431          [P27701]   \n",
       "VTX-0860435          [Q6UWT4]   \n",
       "VTX-0860437      [A0A0C5B5G6]   \n",
       "VTX-0860438          [Q8IVG9]   \n",
       "\n",
       "                                                       evalue  qstart  \\\n",
       "query                                                                   \n",
       "VTX-0001233                                        [4.28e-75]     [1]   \n",
       "VTX-0002499                                      [1.102e-108]     [1]   \n",
       "VTX-0006906  [3.7739999999999997e-41, 3.7739999999999997e-41]  [1, 1]   \n",
       "VTX-0007082                                       [4.263e-26]     [1]   \n",
       "VTX-0007146                                       [2.555e-93]     [1]   \n",
       "...                                                       ...     ...   \n",
       "VTX-0860402                                       [1.412e-09]     [1]   \n",
       "VTX-0860431                                       [2.484e-11]     [1]   \n",
       "VTX-0860435                                       [1.735e-51]     [1]   \n",
       "VTX-0860437                                       [2.145e-06]     [1]   \n",
       "VTX-0860438                                       [6.802e-11]     [1]   \n",
       "\n",
       "                 qend      qlen            qcov gapopen          pident  \\\n",
       "query                                                                     \n",
       "VTX-0001233     [126]     [126]           [1.0]     [0]         [100.0]   \n",
       "VTX-0002499     [159]     [159]           [1.0]     [0]         [100.0]   \n",
       "VTX-0006906  [71, 71]  [82, 82]  [0.866, 0.866]  [0, 0]  [100.0, 100.0]   \n",
       "VTX-0007082      [59]      [59]           [1.0]     [0]         [100.0]   \n",
       "VTX-0007146     [153]     [153]           [1.0]     [0]         [100.0]   \n",
       "...               ...       ...             ...     ...             ...   \n",
       "VTX-0860402      [22]      [38]         [0.579]     [0]         [100.0]   \n",
       "VTX-0860431      [26]      [46]         [0.565]     [0]         [100.0]   \n",
       "VTX-0860435      [87]      [87]           [1.0]     [0]         [100.0]   \n",
       "VTX-0860437      [16]      [16]           [1.0]     [0]         [100.0]   \n",
       "VTX-0860438      [24]      [24]           [1.0]     [0]         [100.0]   \n",
       "\n",
       "                 fident    alnlen         raw        bits  \n",
       "query                                                      \n",
       "VTX-0001233       [1.0]     [126]       [607]       [244]  \n",
       "VTX-0002499       [1.0]     [159]       [855]       [342]  \n",
       "VTX-0006906  [1.0, 1.0]  [71, 71]  [351, 351]  [143, 143]  \n",
       "VTX-0007082       [1.0]      [59]       [239]        [99]  \n",
       "VTX-0007146       [1.0]     [153]       [744]       [298]  \n",
       "...                 ...       ...         ...         ...  \n",
       "VTX-0860402       [1.0]      [22]       [115]        [50]  \n",
       "VTX-0860431       [1.0]      [26]       [131]        [56]  \n",
       "VTX-0860435       [1.0]      [87]       [427]       [173]  \n",
       "VTX-0860437       [1.0]      [16]        [90]        [40]  \n",
       "VTX-0860438       [1.0]      [24]       [123]        [53]  \n",
       "\n",
       "[1165 rows x 12 columns]"
      ]
     },
     "execution_count": 25,
     "metadata": {},
     "output_type": "execute_result"
    }
   ],
   "source": [
    "swissprot_isoform_df"
   ]
  },
  {
   "cell_type": "code",
   "execution_count": 34,
   "metadata": {},
   "outputs": [
    {
     "data": {
      "text/plain": [
       "7264"
      ]
     },
     "execution_count": 34,
     "metadata": {},
     "output_type": "execute_result"
    }
   ],
   "source": [
    "session.query(OrfXref.orf_id).\\\n",
    "        join(Dataset, Dataset.id == OrfXref.xref_dataset_id).\\\n",
    "        filter(OrfXref.xref_dataset_id == 104).count()"
   ]
  },
  {
   "cell_type": "code",
   "execution_count": null,
   "metadata": {},
   "outputs": [],
   "source": []
  }
 ],
 "metadata": {
  "kernelspec": {
   "display_name": "Python 3 (ipykernel)",
   "language": "python",
   "name": "python3"
  },
  "language_info": {
   "codemirror_mode": {
    "name": "ipython",
    "version": 3
   },
   "file_extension": ".py",
   "mimetype": "text/x-python",
   "name": "python",
   "nbconvert_exporter": "python",
   "pygments_lexer": "ipython3",
   "version": "3.11.3"
  }
 },
 "nbformat": 4,
 "nbformat_minor": 4
}
